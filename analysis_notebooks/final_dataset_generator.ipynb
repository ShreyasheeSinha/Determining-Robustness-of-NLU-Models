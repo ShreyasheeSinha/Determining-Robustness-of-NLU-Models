{
  "nbformat": 4,
  "nbformat_minor": 0,
  "metadata": {
    "colab": {
      "name": "final_dataset_generator.ipynb",
      "provenance": [],
      "collapsed_sections": []
    },
    "kernelspec": {
      "name": "python3",
      "display_name": "Python 3"
    },
    "language_info": {
      "name": "python"
    }
  },
  "cells": [
    {
      "cell_type": "code",
      "execution_count": null,
      "metadata": {
        "id": "k1w4r1yAoCho"
      },
      "outputs": [],
      "source": [
        "import pandas as pd\n",
        "import json\n",
        "import itertools"
      ]
    },
    {
      "cell_type": "code",
      "source": [
        "!git clone https://github.com/ShreyasheeSinha/Determining-Robustness-of-NLU-Models.git"
      ],
      "metadata": {
        "colab": {
          "base_uri": "https://localhost:8080/"
        },
        "id": "SBwSVWl0pyUi",
        "outputId": "bc3677eb-95b9-4a73-9fe3-4528c9183e04"
      },
      "execution_count": null,
      "outputs": [
        {
          "output_type": "stream",
          "name": "stdout",
          "text": [
            "Cloning into 'Determining-Robustness-of-NLU-Models'...\n",
            "remote: Enumerating objects: 324, done.\u001b[K\n",
            "remote: Counting objects: 100% (176/176), done.\u001b[K\n",
            "remote: Compressing objects: 100% (119/119), done.\u001b[K\n",
            "remote: Total 324 (delta 80), reused 122 (delta 56), pack-reused 148\u001b[K\n",
            "Receiving objects: 100% (324/324), 1.90 MiB | 16.89 MiB/s, done.\n",
            "Resolving deltas: 100% (160/160), done.\n"
          ]
        }
      ]
    },
    {
      "cell_type": "code",
      "source": [
        "PATH = \"/content/drive/MyDrive/paraphraser_work/MTurk data/Final dataset/all_grammatically_correct_thresholded_paraphrases.csv\"\n",
        "RTE_DEV_PATH = \"/content/Determining-Robustness-of-NLU-Models/data/RTE_data/RTE_dev.jsonl\"\n",
        "RTE_TEST_PATH = \"/content/Determining-Robustness-of-NLU-Models/data/RTE_data/RTE_test.jsonl\""
      ],
      "metadata": {
        "id": "aL5Zj16JoGT_"
      },
      "execution_count": null,
      "outputs": []
    },
    {
      "cell_type": "code",
      "source": [
        "def read_jsonl_file(path):\n",
        "  with open(path, 'r') as json_file:\n",
        "      json_list = list(json_file)\n",
        "\n",
        "  results = []\n",
        "  for json_str in json_list:\n",
        "      results.append(json.loads(json_str))\n",
        "  return results"
      ],
      "metadata": {
        "id": "CTSwBNnNqJTd"
      },
      "execution_count": null,
      "outputs": []
    },
    {
      "cell_type": "code",
      "source": [
        "rte_dev_data = pd.DataFrame(read_jsonl_file(RTE_DEV_PATH))\n",
        "rte_test_data = pd.DataFrame(read_jsonl_file(RTE_TEST_PATH))"
      ],
      "metadata": {
        "id": "z-w8IIxJqNeK"
      },
      "execution_count": null,
      "outputs": []
    },
    {
      "cell_type": "code",
      "source": [
        "paraphrased_data = pd.read_csv(PATH)"
      ],
      "metadata": {
        "id": "rXvlUEvvoG1D"
      },
      "execution_count": null,
      "outputs": []
    },
    {
      "cell_type": "code",
      "source": [
        "paraphrased_test_data = paraphrased_data[paraphrased_data['origin_id'].str.contains(\"test\")]\n",
        "paraphrased_dev_data = paraphrased_data[paraphrased_data['origin_id'].str.contains(\"dev\")]"
      ],
      "metadata": {
        "id": "yU8dPmuboWMy"
      },
      "execution_count": null,
      "outputs": []
    },
    {
      "cell_type": "code",
      "source": [
        "paraphrased_test_data.drop(columns=['Unnamed: 0'], inplace=True)\n",
        "paraphrased_dev_data.drop(columns=['Unnamed: 0'], inplace=True)"
      ],
      "metadata": {
        "id": "jWxeWyXpo9J3"
      },
      "execution_count": null,
      "outputs": []
    },
    {
      "cell_type": "code",
      "source": [
        "rte_test_data"
      ],
      "metadata": {
        "colab": {
          "base_uri": "https://localhost:8080/",
          "height": 641
        },
        "id": "YEVbrVeOrujT",
        "outputId": "1ec16f25-1efd-47ad-ed27-2d2eb69b977e"
      },
      "execution_count": null,
      "outputs": [
        {
          "output_type": "execute_result",
          "data": {
            "text/plain": [
              "               dataset  corpus_sent_id  \\\n",
              "0     RTE1_test.column            1066   \n",
              "1     RTE3_test.column             767   \n",
              "2     RTE1_test.column              39   \n",
              "3     RTE2_test.column             485   \n",
              "4     RTE3_test.column             681   \n",
              "...                ...             ...   \n",
              "2395  RTE2_test.column             578   \n",
              "2396  RTE3_test.column             661   \n",
              "2397  RTE3_test.column             214   \n",
              "2398  RTE3_test.column             526   \n",
              "2399  RTE2_test.column             698   \n",
              "\n",
              "                                              sentence2  gold_label  \\\n",
              "0     The Nuttall and Gibson fires were caused by li...        True   \n",
              "1      Mr Putin is a vehement critic of Mr Litvinenko .       False   \n",
              "2     Bill Clinton received a reported $ 10 million ...        True   \n",
              "3     Insurgents have launched attacks on Iraq 's oi...        True   \n",
              "4     The court heard US appeals for the release of ...        True   \n",
              "...                                                 ...         ...   \n",
              "2395            Mathew Staver is a supporter of Miers .       False   \n",
              "2396  Kenya 's wildlife is managed in a profitable m...       False   \n",
              "2397  French conscientious objectors are given speci...       False   \n",
              "2398  Earthquakes have the potential to generate a t...        True   \n",
              "2399  EZLN is an armed revolutionary group based in ...        True   \n",
              "\n",
              "                                              sentence1 task  \\\n",
              "0     The biggest fires on Mount Graham , the lightn...   RC   \n",
              "1     There has been some speculation in the Russian...  SUM   \n",
              "2     Mr. Clinton received a hefty advance for the b...   PP   \n",
              "3     Insurgent attacks on pipelines have brought oi...  SUM   \n",
              "4     They refused to appear in the World Court 10 y...  SUM   \n",
              "...                                                 ...  ...   \n",
              "2395  Mathew Staver , president of Liberty Counsel ,...   IE   \n",
              "2396  Leakey believed Kenya 's wildlife , which unde...  SUM   \n",
              "2397  Almost a century of French history has come to...   IR   \n",
              "2398  The most recent underwater volcano eruption wa...   QA   \n",
              "2399  The Zapatista Army of National Liberation ( Ej...   QA   \n",
              "\n",
              "                         id  \n",
              "0     1066_RTE1_test.column  \n",
              "1      767_RTE3_test.column  \n",
              "2       39_RTE1_test.column  \n",
              "3      485_RTE2_test.column  \n",
              "4      681_RTE3_test.column  \n",
              "...                     ...  \n",
              "2395   578_RTE2_test.column  \n",
              "2396   661_RTE3_test.column  \n",
              "2397   214_RTE3_test.column  \n",
              "2398   526_RTE3_test.column  \n",
              "2399   698_RTE2_test.column  \n",
              "\n",
              "[2400 rows x 7 columns]"
            ],
            "text/html": [
              "\n",
              "  <div id=\"df-21716bb4-c3fd-4b6c-9d08-26a2a70f911c\">\n",
              "    <div class=\"colab-df-container\">\n",
              "      <div>\n",
              "<style scoped>\n",
              "    .dataframe tbody tr th:only-of-type {\n",
              "        vertical-align: middle;\n",
              "    }\n",
              "\n",
              "    .dataframe tbody tr th {\n",
              "        vertical-align: top;\n",
              "    }\n",
              "\n",
              "    .dataframe thead th {\n",
              "        text-align: right;\n",
              "    }\n",
              "</style>\n",
              "<table border=\"1\" class=\"dataframe\">\n",
              "  <thead>\n",
              "    <tr style=\"text-align: right;\">\n",
              "      <th></th>\n",
              "      <th>dataset</th>\n",
              "      <th>corpus_sent_id</th>\n",
              "      <th>sentence2</th>\n",
              "      <th>gold_label</th>\n",
              "      <th>sentence1</th>\n",
              "      <th>task</th>\n",
              "      <th>id</th>\n",
              "    </tr>\n",
              "  </thead>\n",
              "  <tbody>\n",
              "    <tr>\n",
              "      <th>0</th>\n",
              "      <td>RTE1_test.column</td>\n",
              "      <td>1066</td>\n",
              "      <td>The Nuttall and Gibson fires were caused by li...</td>\n",
              "      <td>True</td>\n",
              "      <td>The biggest fires on Mount Graham , the lightn...</td>\n",
              "      <td>RC</td>\n",
              "      <td>1066_RTE1_test.column</td>\n",
              "    </tr>\n",
              "    <tr>\n",
              "      <th>1</th>\n",
              "      <td>RTE3_test.column</td>\n",
              "      <td>767</td>\n",
              "      <td>Mr Putin is a vehement critic of Mr Litvinenko .</td>\n",
              "      <td>False</td>\n",
              "      <td>There has been some speculation in the Russian...</td>\n",
              "      <td>SUM</td>\n",
              "      <td>767_RTE3_test.column</td>\n",
              "    </tr>\n",
              "    <tr>\n",
              "      <th>2</th>\n",
              "      <td>RTE1_test.column</td>\n",
              "      <td>39</td>\n",
              "      <td>Bill Clinton received a reported $ 10 million ...</td>\n",
              "      <td>True</td>\n",
              "      <td>Mr. Clinton received a hefty advance for the b...</td>\n",
              "      <td>PP</td>\n",
              "      <td>39_RTE1_test.column</td>\n",
              "    </tr>\n",
              "    <tr>\n",
              "      <th>3</th>\n",
              "      <td>RTE2_test.column</td>\n",
              "      <td>485</td>\n",
              "      <td>Insurgents have launched attacks on Iraq 's oi...</td>\n",
              "      <td>True</td>\n",
              "      <td>Insurgent attacks on pipelines have brought oi...</td>\n",
              "      <td>SUM</td>\n",
              "      <td>485_RTE2_test.column</td>\n",
              "    </tr>\n",
              "    <tr>\n",
              "      <th>4</th>\n",
              "      <td>RTE3_test.column</td>\n",
              "      <td>681</td>\n",
              "      <td>The court heard US appeals for the release of ...</td>\n",
              "      <td>True</td>\n",
              "      <td>They refused to appear in the World Court 10 y...</td>\n",
              "      <td>SUM</td>\n",
              "      <td>681_RTE3_test.column</td>\n",
              "    </tr>\n",
              "    <tr>\n",
              "      <th>...</th>\n",
              "      <td>...</td>\n",
              "      <td>...</td>\n",
              "      <td>...</td>\n",
              "      <td>...</td>\n",
              "      <td>...</td>\n",
              "      <td>...</td>\n",
              "      <td>...</td>\n",
              "    </tr>\n",
              "    <tr>\n",
              "      <th>2395</th>\n",
              "      <td>RTE2_test.column</td>\n",
              "      <td>578</td>\n",
              "      <td>Mathew Staver is a supporter of Miers .</td>\n",
              "      <td>False</td>\n",
              "      <td>Mathew Staver , president of Liberty Counsel ,...</td>\n",
              "      <td>IE</td>\n",
              "      <td>578_RTE2_test.column</td>\n",
              "    </tr>\n",
              "    <tr>\n",
              "      <th>2396</th>\n",
              "      <td>RTE3_test.column</td>\n",
              "      <td>661</td>\n",
              "      <td>Kenya 's wildlife is managed in a profitable m...</td>\n",
              "      <td>False</td>\n",
              "      <td>Leakey believed Kenya 's wildlife , which unde...</td>\n",
              "      <td>SUM</td>\n",
              "      <td>661_RTE3_test.column</td>\n",
              "    </tr>\n",
              "    <tr>\n",
              "      <th>2397</th>\n",
              "      <td>RTE3_test.column</td>\n",
              "      <td>214</td>\n",
              "      <td>French conscientious objectors are given speci...</td>\n",
              "      <td>False</td>\n",
              "      <td>Almost a century of French history has come to...</td>\n",
              "      <td>IR</td>\n",
              "      <td>214_RTE3_test.column</td>\n",
              "    </tr>\n",
              "    <tr>\n",
              "      <th>2398</th>\n",
              "      <td>RTE3_test.column</td>\n",
              "      <td>526</td>\n",
              "      <td>Earthquakes have the potential to generate a t...</td>\n",
              "      <td>True</td>\n",
              "      <td>The most recent underwater volcano eruption wa...</td>\n",
              "      <td>QA</td>\n",
              "      <td>526_RTE3_test.column</td>\n",
              "    </tr>\n",
              "    <tr>\n",
              "      <th>2399</th>\n",
              "      <td>RTE2_test.column</td>\n",
              "      <td>698</td>\n",
              "      <td>EZLN is an armed revolutionary group based in ...</td>\n",
              "      <td>True</td>\n",
              "      <td>The Zapatista Army of National Liberation ( Ej...</td>\n",
              "      <td>QA</td>\n",
              "      <td>698_RTE2_test.column</td>\n",
              "    </tr>\n",
              "  </tbody>\n",
              "</table>\n",
              "<p>2400 rows × 7 columns</p>\n",
              "</div>\n",
              "      <button class=\"colab-df-convert\" onclick=\"convertToInteractive('df-21716bb4-c3fd-4b6c-9d08-26a2a70f911c')\"\n",
              "              title=\"Convert this dataframe to an interactive table.\"\n",
              "              style=\"display:none;\">\n",
              "        \n",
              "  <svg xmlns=\"http://www.w3.org/2000/svg\" height=\"24px\"viewBox=\"0 0 24 24\"\n",
              "       width=\"24px\">\n",
              "    <path d=\"M0 0h24v24H0V0z\" fill=\"none\"/>\n",
              "    <path d=\"M18.56 5.44l.94 2.06.94-2.06 2.06-.94-2.06-.94-.94-2.06-.94 2.06-2.06.94zm-11 1L8.5 8.5l.94-2.06 2.06-.94-2.06-.94L8.5 2.5l-.94 2.06-2.06.94zm10 10l.94 2.06.94-2.06 2.06-.94-2.06-.94-.94-2.06-.94 2.06-2.06.94z\"/><path d=\"M17.41 7.96l-1.37-1.37c-.4-.4-.92-.59-1.43-.59-.52 0-1.04.2-1.43.59L10.3 9.45l-7.72 7.72c-.78.78-.78 2.05 0 2.83L4 21.41c.39.39.9.59 1.41.59.51 0 1.02-.2 1.41-.59l7.78-7.78 2.81-2.81c.8-.78.8-2.07 0-2.86zM5.41 20L4 18.59l7.72-7.72 1.47 1.35L5.41 20z\"/>\n",
              "  </svg>\n",
              "      </button>\n",
              "      \n",
              "  <style>\n",
              "    .colab-df-container {\n",
              "      display:flex;\n",
              "      flex-wrap:wrap;\n",
              "      gap: 12px;\n",
              "    }\n",
              "\n",
              "    .colab-df-convert {\n",
              "      background-color: #E8F0FE;\n",
              "      border: none;\n",
              "      border-radius: 50%;\n",
              "      cursor: pointer;\n",
              "      display: none;\n",
              "      fill: #1967D2;\n",
              "      height: 32px;\n",
              "      padding: 0 0 0 0;\n",
              "      width: 32px;\n",
              "    }\n",
              "\n",
              "    .colab-df-convert:hover {\n",
              "      background-color: #E2EBFA;\n",
              "      box-shadow: 0px 1px 2px rgba(60, 64, 67, 0.3), 0px 1px 3px 1px rgba(60, 64, 67, 0.15);\n",
              "      fill: #174EA6;\n",
              "    }\n",
              "\n",
              "    [theme=dark] .colab-df-convert {\n",
              "      background-color: #3B4455;\n",
              "      fill: #D2E3FC;\n",
              "    }\n",
              "\n",
              "    [theme=dark] .colab-df-convert:hover {\n",
              "      background-color: #434B5C;\n",
              "      box-shadow: 0px 1px 3px 1px rgba(0, 0, 0, 0.15);\n",
              "      filter: drop-shadow(0px 1px 2px rgba(0, 0, 0, 0.3));\n",
              "      fill: #FFFFFF;\n",
              "    }\n",
              "  </style>\n",
              "\n",
              "      <script>\n",
              "        const buttonEl =\n",
              "          document.querySelector('#df-21716bb4-c3fd-4b6c-9d08-26a2a70f911c button.colab-df-convert');\n",
              "        buttonEl.style.display =\n",
              "          google.colab.kernel.accessAllowed ? 'block' : 'none';\n",
              "\n",
              "        async function convertToInteractive(key) {\n",
              "          const element = document.querySelector('#df-21716bb4-c3fd-4b6c-9d08-26a2a70f911c');\n",
              "          const dataTable =\n",
              "            await google.colab.kernel.invokeFunction('convertToInteractive',\n",
              "                                                     [key], {});\n",
              "          if (!dataTable) return;\n",
              "\n",
              "          const docLinkHtml = 'Like what you see? Visit the ' +\n",
              "            '<a target=\"_blank\" href=https://colab.research.google.com/notebooks/data_table.ipynb>data table notebook</a>'\n",
              "            + ' to learn more about interactive tables.';\n",
              "          element.innerHTML = '';\n",
              "          dataTable['output_type'] = 'display_data';\n",
              "          await google.colab.output.renderOutput(dataTable, element);\n",
              "          const docLink = document.createElement('div');\n",
              "          docLink.innerHTML = docLinkHtml;\n",
              "          element.appendChild(docLink);\n",
              "        }\n",
              "      </script>\n",
              "    </div>\n",
              "  </div>\n",
              "  "
            ]
          },
          "metadata": {},
          "execution_count": 21
        }
      ]
    },
    {
      "cell_type": "code",
      "source": [
        "def get_paraphrases(data, key_prefix):\n",
        "  paraphrases = []\n",
        "  if not data.empty:\n",
        "    paraphrase1 = data.iloc[0]['paraphrase1']\n",
        "    paraphrase2 = data.iloc[0]['paraphrase2']\n",
        "    paraphrase3 = data.iloc[0]['paraphrase3']\n",
        "    # print(paraphrase1, paraphrase2, paraphrase3)\n",
        "    paraphrases = []\n",
        "    if not pd.isnull(paraphrase1):\n",
        "      paraphrases.append((key_prefix + \"_para1\", paraphrase1))\n",
        "    if not pd.isnull(paraphrase2):\n",
        "      paraphrases.append((key_prefix + \"_para2\", paraphrase2))\n",
        "    if not pd.isnull(paraphrase3):\n",
        "      paraphrases.append((key_prefix + \"_para3\", paraphrase3))\n",
        "  return paraphrases"
      ],
      "metadata": {
        "id": "J_aSP4o8os0U"
      },
      "execution_count": null,
      "outputs": []
    },
    {
      "cell_type": "code",
      "source": [
        "def generate_pairs(premise_list, hypothesis_list):\n",
        "  pairs = []\n",
        "  for pair in itertools.product(premise_list, hypothesis_list):\n",
        "    pairs.append(pair)\n",
        "  return pairs"
      ],
      "metadata": {
        "id": "kd1PaN0fqNgE"
      },
      "execution_count": null,
      "outputs": []
    },
    {
      "cell_type": "code",
      "source": [
        "paraphrased_test_data[paraphrased_test_data['origin_id'] == \"RTE2_test.column_s2_485\"]"
      ],
      "metadata": {
        "colab": {
          "base_uri": "https://localhost:8080/",
          "height": 159
        },
        "id": "34lw3uXnwXmH",
        "outputId": "bb01f575-891c-4829-941c-79e0f34fc983"
      },
      "execution_count": null,
      "outputs": [
        {
          "output_type": "execute_result",
          "data": {
            "text/plain": [
              "                   origin_id  \\\n",
              "428  RTE2_test.column_s2_485   \n",
              "\n",
              "                                              sentence  \\\n",
              "428  Insurgents have launched attacks on Iraq 's oi...   \n",
              "\n",
              "                                           paraphrase1  score1  range1  \\\n",
              "428  Insurgents have launched attacks on Iraq's oil...     2.0   100.0   \n",
              "\n",
              "                                           paraphrase2  score2  range2  \\\n",
              "428  Insurgents have launched attacks on the oil in...     2.0    86.0   \n",
              "\n",
              "    paraphrase3  score3  range3  \n",
              "428         NaN     NaN     NaN  "
            ],
            "text/html": [
              "\n",
              "  <div id=\"df-54334c91-fa16-479c-9687-b606ab1f6651\">\n",
              "    <div class=\"colab-df-container\">\n",
              "      <div>\n",
              "<style scoped>\n",
              "    .dataframe tbody tr th:only-of-type {\n",
              "        vertical-align: middle;\n",
              "    }\n",
              "\n",
              "    .dataframe tbody tr th {\n",
              "        vertical-align: top;\n",
              "    }\n",
              "\n",
              "    .dataframe thead th {\n",
              "        text-align: right;\n",
              "    }\n",
              "</style>\n",
              "<table border=\"1\" class=\"dataframe\">\n",
              "  <thead>\n",
              "    <tr style=\"text-align: right;\">\n",
              "      <th></th>\n",
              "      <th>origin_id</th>\n",
              "      <th>sentence</th>\n",
              "      <th>paraphrase1</th>\n",
              "      <th>score1</th>\n",
              "      <th>range1</th>\n",
              "      <th>paraphrase2</th>\n",
              "      <th>score2</th>\n",
              "      <th>range2</th>\n",
              "      <th>paraphrase3</th>\n",
              "      <th>score3</th>\n",
              "      <th>range3</th>\n",
              "    </tr>\n",
              "  </thead>\n",
              "  <tbody>\n",
              "    <tr>\n",
              "      <th>428</th>\n",
              "      <td>RTE2_test.column_s2_485</td>\n",
              "      <td>Insurgents have launched attacks on Iraq 's oi...</td>\n",
              "      <td>Insurgents have launched attacks on Iraq's oil...</td>\n",
              "      <td>2.0</td>\n",
              "      <td>100.0</td>\n",
              "      <td>Insurgents have launched attacks on the oil in...</td>\n",
              "      <td>2.0</td>\n",
              "      <td>86.0</td>\n",
              "      <td>NaN</td>\n",
              "      <td>NaN</td>\n",
              "      <td>NaN</td>\n",
              "    </tr>\n",
              "  </tbody>\n",
              "</table>\n",
              "</div>\n",
              "      <button class=\"colab-df-convert\" onclick=\"convertToInteractive('df-54334c91-fa16-479c-9687-b606ab1f6651')\"\n",
              "              title=\"Convert this dataframe to an interactive table.\"\n",
              "              style=\"display:none;\">\n",
              "        \n",
              "  <svg xmlns=\"http://www.w3.org/2000/svg\" height=\"24px\"viewBox=\"0 0 24 24\"\n",
              "       width=\"24px\">\n",
              "    <path d=\"M0 0h24v24H0V0z\" fill=\"none\"/>\n",
              "    <path d=\"M18.56 5.44l.94 2.06.94-2.06 2.06-.94-2.06-.94-.94-2.06-.94 2.06-2.06.94zm-11 1L8.5 8.5l.94-2.06 2.06-.94-2.06-.94L8.5 2.5l-.94 2.06-2.06.94zm10 10l.94 2.06.94-2.06 2.06-.94-2.06-.94-.94-2.06-.94 2.06-2.06.94z\"/><path d=\"M17.41 7.96l-1.37-1.37c-.4-.4-.92-.59-1.43-.59-.52 0-1.04.2-1.43.59L10.3 9.45l-7.72 7.72c-.78.78-.78 2.05 0 2.83L4 21.41c.39.39.9.59 1.41.59.51 0 1.02-.2 1.41-.59l7.78-7.78 2.81-2.81c.8-.78.8-2.07 0-2.86zM5.41 20L4 18.59l7.72-7.72 1.47 1.35L5.41 20z\"/>\n",
              "  </svg>\n",
              "      </button>\n",
              "      \n",
              "  <style>\n",
              "    .colab-df-container {\n",
              "      display:flex;\n",
              "      flex-wrap:wrap;\n",
              "      gap: 12px;\n",
              "    }\n",
              "\n",
              "    .colab-df-convert {\n",
              "      background-color: #E8F0FE;\n",
              "      border: none;\n",
              "      border-radius: 50%;\n",
              "      cursor: pointer;\n",
              "      display: none;\n",
              "      fill: #1967D2;\n",
              "      height: 32px;\n",
              "      padding: 0 0 0 0;\n",
              "      width: 32px;\n",
              "    }\n",
              "\n",
              "    .colab-df-convert:hover {\n",
              "      background-color: #E2EBFA;\n",
              "      box-shadow: 0px 1px 2px rgba(60, 64, 67, 0.3), 0px 1px 3px 1px rgba(60, 64, 67, 0.15);\n",
              "      fill: #174EA6;\n",
              "    }\n",
              "\n",
              "    [theme=dark] .colab-df-convert {\n",
              "      background-color: #3B4455;\n",
              "      fill: #D2E3FC;\n",
              "    }\n",
              "\n",
              "    [theme=dark] .colab-df-convert:hover {\n",
              "      background-color: #434B5C;\n",
              "      box-shadow: 0px 1px 3px 1px rgba(0, 0, 0, 0.15);\n",
              "      filter: drop-shadow(0px 1px 2px rgba(0, 0, 0, 0.3));\n",
              "      fill: #FFFFFF;\n",
              "    }\n",
              "  </style>\n",
              "\n",
              "      <script>\n",
              "        const buttonEl =\n",
              "          document.querySelector('#df-54334c91-fa16-479c-9687-b606ab1f6651 button.colab-df-convert');\n",
              "        buttonEl.style.display =\n",
              "          google.colab.kernel.accessAllowed ? 'block' : 'none';\n",
              "\n",
              "        async function convertToInteractive(key) {\n",
              "          const element = document.querySelector('#df-54334c91-fa16-479c-9687-b606ab1f6651');\n",
              "          const dataTable =\n",
              "            await google.colab.kernel.invokeFunction('convertToInteractive',\n",
              "                                                     [key], {});\n",
              "          if (!dataTable) return;\n",
              "\n",
              "          const docLinkHtml = 'Like what you see? Visit the ' +\n",
              "            '<a target=\"_blank\" href=https://colab.research.google.com/notebooks/data_table.ipynb>data table notebook</a>'\n",
              "            + ' to learn more about interactive tables.';\n",
              "          element.innerHTML = '';\n",
              "          dataTable['output_type'] = 'display_data';\n",
              "          await google.colab.output.renderOutput(dataTable, element);\n",
              "          const docLink = document.createElement('div');\n",
              "          docLink.innerHTML = docLinkHtml;\n",
              "          element.appendChild(docLink);\n",
              "        }\n",
              "      </script>\n",
              "    </div>\n",
              "  </div>\n",
              "  "
            ]
          },
          "metadata": {},
          "execution_count": 77
        }
      ]
    },
    {
      "cell_type": "code",
      "source": [
        "generate_pairs([\"p\", \"p1\", \"p2\", \"p3\"], [\"h\", \"h1\", \"h2\", \"h3\"])"
      ],
      "metadata": {
        "colab": {
          "base_uri": "https://localhost:8080/"
        },
        "id": "_V7JTo52q0Sh",
        "outputId": "da6f8529-0532-46f8-c90e-0523f1ad6063"
      },
      "execution_count": null,
      "outputs": [
        {
          "output_type": "execute_result",
          "data": {
            "text/plain": [
              "[('p', 'h'),\n",
              " ('p', 'h1'),\n",
              " ('p', 'h2'),\n",
              " ('p', 'h3'),\n",
              " ('p1', 'h'),\n",
              " ('p1', 'h1'),\n",
              " ('p1', 'h2'),\n",
              " ('p1', 'h3'),\n",
              " ('p2', 'h'),\n",
              " ('p2', 'h1'),\n",
              " ('p2', 'h2'),\n",
              " ('p2', 'h3'),\n",
              " ('p3', 'h'),\n",
              " ('p3', 'h1'),\n",
              " ('p3', 'h2'),\n",
              " ('p3', 'h3')]"
            ]
          },
          "metadata": {},
          "execution_count": 78
        }
      ]
    },
    {
      "cell_type": "code",
      "source": [
        "def generate_paraphrased_dataset(rte_data, paraphrased_data):\n",
        "  generated_dataset = []\n",
        "  for index, row in rte_data.iterrows():\n",
        "    # generated_dataset.append(row.to_dict())\n",
        "    sentence1 = row['sentence1']\n",
        "    sentence2 = row['sentence2']\n",
        "    s1_origin_id = row['dataset'] + \"_s1_\" + str(row['corpus_sent_id'])\n",
        "    s2_origin_id = row['dataset'] + \"_s2_\" + str(row['corpus_sent_id'])\n",
        "    # print(s1_origin_id, s2_origin_id)\n",
        "    s1_paraphrases = paraphrased_data[paraphrased_data['origin_id'] == s1_origin_id]\n",
        "    s2_paraphrases = paraphrased_data[paraphrased_data['origin_id'] == s2_origin_id]\n",
        "    s1_sentences_paraphrases = []\n",
        "    s2_sentences_paraphrases = []\n",
        "    s1_sentences_paraphrases.append((\"premise\", sentence1))\n",
        "    s2_sentences_paraphrases.append((\"hypothesis\", sentence2))\n",
        "    s1_sentences_paraphrases.extend(get_paraphrases(s1_paraphrases, \"premise\"))\n",
        "    s2_sentences_paraphrases.extend(get_paraphrases(s2_paraphrases, \"hypothesis\"))\n",
        "    pairs = generate_pairs(s1_sentences_paraphrases, s2_sentences_paraphrases)\n",
        "\n",
        "    for pair in pairs:\n",
        "      new_row = {}\n",
        "      new_row['dataset'] = row['dataset']\n",
        "      new_row['corpus_sent_id'] = row['corpus_sent_id']\n",
        "      new_row['gold_label'] = row['gold_label']\n",
        "      new_row['task'] = row['task']\n",
        "      premise, hypothesis = pair\n",
        "      new_row['sentence1'] = premise[1]\n",
        "      new_row['sentence2'] = hypothesis[1]\n",
        "\n",
        "      if premise[0].endswith(\"para1\") or premise[0].endswith(\"para2\") or premise[0].endswith(\"para3\"):\n",
        "        new_row['s1_para_id'] = row['dataset'] + \"_s1_\" + str(row['corpus_sent_id']) + premise[0][-6:]\n",
        "        new_row['silver_label'] = row['gold_label']\n",
        "      \n",
        "      if hypothesis[0].endswith(\"para1\") or hypothesis[0].endswith(\"para2\") or hypothesis[0].endswith(\"para3\"):\n",
        "        new_row['s2_para_id'] = row['dataset'] + \"_s2_\" + str(row['corpus_sent_id']) + hypothesis[0][-6:]\n",
        "        new_row['silver_label'] = row['gold_label']\n",
        "    \n",
        "      generated_dataset.append(new_row)\n",
        "  \n",
        "  return pd.DataFrame(generated_dataset)"
      ],
      "metadata": {
        "id": "dZ9JspRvVfTy"
      },
      "execution_count": null,
      "outputs": []
    },
    {
      "cell_type": "code",
      "source": [
        "rte_test_paraphrased = generate_paraphrased_dataset(rte_test_data, paraphrased_test_data)"
      ],
      "metadata": {
        "id": "jZWGv_cTQqBS"
      },
      "execution_count": null,
      "outputs": []
    },
    {
      "cell_type": "code",
      "source": [
        "rte_test_paraphrased.to_csv(\"/content/drive/MyDrive/paraphraser_work/MTurk data/Generated_dataset/rte_test_paraphrased.csv\")"
      ],
      "metadata": {
        "id": "0r5lPCykRObI"
      },
      "execution_count": null,
      "outputs": []
    },
    {
      "cell_type": "code",
      "source": [
        "rte_dev_paraphrased = generate_paraphrased_dataset(rte_dev_data, paraphrased_dev_data)"
      ],
      "metadata": {
        "id": "Zt_UPIqgxUkQ"
      },
      "execution_count": null,
      "outputs": []
    },
    {
      "cell_type": "code",
      "source": [
        "rte_dev_paraphrased.to_csv(\"/content/drive/MyDrive/paraphraser_work/MTurk data/Generated_dataset/rte_dev_paraphrased.csv\")"
      ],
      "metadata": {
        "id": "G9V-WaN2yGQm"
      },
      "execution_count": null,
      "outputs": []
    },
    {
      "cell_type": "code",
      "source": [
        "def save_data(df, path):\n",
        "    with open(path, 'w') as f:\n",
        "        f.write(df.to_json(orient='records', lines=True))"
      ],
      "metadata": {
        "id": "IT-lhdeEyGji"
      },
      "execution_count": null,
      "outputs": []
    },
    {
      "cell_type": "code",
      "source": [
        "save_data(rte_dev_paraphrased, \"/content/drive/MyDrive/paraphraser_work/MTurk data/Generated_dataset/rte_dev_paraphrased.jsonl\")"
      ],
      "metadata": {
        "id": "SKgbX-dQ0Vfl"
      },
      "execution_count": null,
      "outputs": []
    },
    {
      "cell_type": "code",
      "source": [
        "save_data(rte_test_paraphrased, \"/content/drive/MyDrive/paraphraser_work/MTurk data/Generated_dataset/rte_test_paraphrased.jsonl\")"
      ],
      "metadata": {
        "id": "2_J38xV30aaB"
      },
      "execution_count": null,
      "outputs": []
    },
    {
      "cell_type": "code",
      "source": [
        ""
      ],
      "metadata": {
        "id": "8gFTtxjZ0dnZ"
      },
      "execution_count": null,
      "outputs": []
    }
  ]
}
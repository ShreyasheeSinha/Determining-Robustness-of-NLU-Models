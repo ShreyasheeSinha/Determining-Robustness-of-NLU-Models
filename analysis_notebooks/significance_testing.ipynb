{
  "nbformat": 4,
  "nbformat_minor": 0,
  "metadata": {
    "colab": {
      "provenance": [],
      "authorship_tag": "ABX9TyM2/fQGMYb40g7Kycdgr6MF",
      "include_colab_link": true
    },
    "kernelspec": {
      "name": "python3",
      "display_name": "Python 3"
    },
    "language_info": {
      "name": "python"
    }
  },
  "cells": [
    {
      "cell_type": "markdown",
      "metadata": {
        "id": "view-in-github",
        "colab_type": "text"
      },
      "source": [
        "<a href=\"https://colab.research.google.com/github/ShreyasheeSinha/Determining-Robustness-of-NLU-Models/blob/main/analysis_notebooks/significance_testing.ipynb\" target=\"_parent\"><img src=\"https://colab.research.google.com/assets/colab-badge.svg\" alt=\"Open In Colab\"/></a>"
      ]
    },
    {
      "cell_type": "markdown",
      "source": [
        "Notebook with code to carry out significance testing."
      ],
      "metadata": {
        "id": "3sAyZM8uU09l"
      }
    },
    {
      "cell_type": "code",
      "execution_count": null,
      "metadata": {
        "colab": {
          "base_uri": "https://localhost:8080/"
        },
        "id": "Xu4r8KhJgI6i",
        "outputId": "41d02426-a0fa-445d-86fc-3bfccab3cfbb"
      },
      "outputs": [
        {
          "output_type": "stream",
          "name": "stdout",
          "text": [
            "Mounted at /content/gdrive\n"
          ]
        }
      ],
      "source": [
        "from google.colab import drive\n",
        "drive.mount('/content/gdrive')"
      ]
    },
    {
      "cell_type": "code",
      "source": [
        "!cp /content/gdrive/MyDrive/paraphraser_work/model_predictions.tar.gz model_predictions.tar.gz"
      ],
      "metadata": {
        "id": "aG1jOlrlgNNx"
      },
      "execution_count": null,
      "outputs": []
    },
    {
      "cell_type": "code",
      "source": [
        "! gzip -d model_predictions.tar.gz"
      ],
      "metadata": {
        "id": "9-ocjSt3gOdd"
      },
      "execution_count": null,
      "outputs": []
    },
    {
      "cell_type": "code",
      "source": [
        "! tar -xvf  'model_predictions.tar'"
      ],
      "metadata": {
        "colab": {
          "base_uri": "https://localhost:8080/"
        },
        "id": "A1-5MM25gPoa",
        "outputId": "66e6efc1-d2d0-4806-acc1-72565e3a755b"
      },
      "execution_count": null,
      "outputs": [
        {
          "output_type": "stream",
          "name": "stdout",
          "text": [
            "model_predictions/\n",
            "model_predictions/MNLI_train_RTE_dev/\n",
            "model_predictions/MNLI_train_RTE_dev/roberta-base/\n",
            "model_predictions/MNLI_train_RTE_dev/roberta-base/roberta_base_2_class_rte_test_p_predictions.csv\n",
            "model_predictions/MNLI_train_RTE_dev/roberta-base/roberta_base_2_class_hypo_only_rte_test_p_predictions.csv\n",
            "model_predictions/MNLI_train_RTE_dev/roberta-base/roberta_base_3_class_rte_test_p_predictions.csv\n",
            "model_predictions/MNLI_train_RTE_dev/roberta-base/roberta_base_3_class_hypo_only_rte_test_p_predictions.csv\n",
            "model_predictions/MNLI_train_RTE_dev/roberta/\n",
            "model_predictions/MNLI_train_RTE_dev/roberta/roberta-base/\n",
            "model_predictions/MNLI_train_RTE_dev/roberta/roberta-base/roberta_base_3_class_rte_test_predictions.csv\n",
            "model_predictions/MNLI_train_RTE_dev/roberta/roberta-base/roberta_base_3_class_rte_dev_predictions.csv\n",
            "model_predictions/MNLI_train_RTE_dev/roberta/roberta-base/roberta_base_3_class_hypo_only_rte_dev_predictions.csv\n",
            "model_predictions/MNLI_train_RTE_dev/roberta/roberta-base/roberta_base_2_class_rte_dev_predictions.csv\n",
            "model_predictions/MNLI_train_RTE_dev/roberta/roberta-base/roberta_base_3_class_hypo_only_rte_test_predictions.csv\n",
            "model_predictions/MNLI_train_RTE_dev/roberta/roberta-base/roberta_base_2_class_hypo_only_rte_test_predictions.csv\n",
            "model_predictions/MNLI_train_RTE_dev/roberta/roberta-base/roberta_base_2_class_rte_test_predictions.csv\n",
            "model_predictions/MNLI_train_RTE_dev/roberta/roberta-base/roberta_base_2_class_hypo_only_rte_dev_predictions.csv\n",
            "model_predictions/MNLI_train_RTE_dev/roberta/roberta-large/\n",
            "model_predictions/MNLI_train_RTE_dev/roberta/roberta-large/roberta_large_2_class_rte_dev_predictions.csv\n",
            "model_predictions/MNLI_train_RTE_dev/roberta/roberta-large/roberta_large_3_class_hypo_only_rte_test_predictions.csv\n",
            "model_predictions/MNLI_train_RTE_dev/roberta/roberta-large/roberta_large_2_class_hypo_only_rte_test_predictions.csv\n",
            "model_predictions/MNLI_train_RTE_dev/roberta/roberta-large/roberta_large_2_class_rte_test_predictions.csv\n",
            "model_predictions/MNLI_train_RTE_dev/roberta/roberta-large/roberta_large_2_class_hypo_only_rte_dev_predictions.csv\n",
            "model_predictions/MNLI_train_RTE_dev/roberta/roberta-large/roberta_large_3_class_rte_dev_predictions.csv\n",
            "model_predictions/MNLI_train_RTE_dev/roberta/roberta-large/roberta_large_3_class_hypo_only_rte_dev_predictions.csv\n",
            "model_predictions/MNLI_train_RTE_dev/roberta/roberta-large/roberta_large_3_class_rte_test_predictions.csv\n",
            "model_predictions/MNLI_train_RTE_dev/bert-large-uncased/\n",
            "model_predictions/MNLI_train_RTE_dev/bert-large-uncased/bert_large_3_class_hypo_only_rte_dev_predictions.csv\n",
            "model_predictions/MNLI_train_RTE_dev/bert-large-uncased/bert_large_2_class_rte_test_p_predictions.csv\n",
            "model_predictions/MNLI_train_RTE_dev/bert-large-uncased/bert_large_2_class_rte_dev_predictions.csv\n",
            "model_predictions/MNLI_train_RTE_dev/bert-large-uncased/bert_large_3_class_rte_dev_predictions.csv\n",
            "model_predictions/MNLI_train_RTE_dev/bert-large-uncased/bert_large_3_class_rte_test+p_predictions.csv\n",
            "model_predictions/MNLI_train_RTE_dev/bert-large-uncased/bert_large_2_class_hypo_only_rte_test_predictions.csv\n",
            "model_predictions/MNLI_train_RTE_dev/bert-large-uncased/bert_large_2_class_rte_test_predictions.csv\n",
            "model_predictions/MNLI_train_RTE_dev/bert-large-uncased/bert_large_3_class_hypo_only_rte_test_predictions.csv\n",
            "model_predictions/MNLI_train_RTE_dev/bert-large-uncased/bert_large_2_class_hypo_only_rte_dev_predictions.csv\n",
            "model_predictions/MNLI_train_RTE_dev/bert-large-uncased/bert_large_3_class_rte_test_predictions.csv\n",
            "model_predictions/MNLI_train_RTE_dev/bert-large-uncased/bert_large_3_class_hypo_only_rte_test_p_predictions.csv\n",
            "model_predictions/MNLI_train_RTE_dev/bert-large-uncased/bert_large_2_class_hypo_only_rte_test_p_predictions.csv\n",
            "model_predictions/MNLI_train_RTE_dev/cbow/\n",
            "model_predictions/MNLI_train_RTE_dev/cbow/cbow_3_class_hypo_only_rte_test_p_predictions.csv\n",
            "model_predictions/MNLI_train_RTE_dev/cbow/cbow_3_class_rte_test_p_predictions.csv\n",
            "model_predictions/MNLI_train_RTE_dev/cbow/cbow_2_class_rte_test_p_predictions.csv\n",
            "model_predictions/MNLI_train_RTE_dev/cbow/cbow_2_class_hypo_only_rte_dev_predictions.csv\n",
            "model_predictions/MNLI_train_RTE_dev/cbow/cbow_3_class_hypo_only_rte_dev_predictions.csv\n",
            "model_predictions/MNLI_train_RTE_dev/cbow/cbow_2_class_rte_test_predictions.csv\n",
            "model_predictions/MNLI_train_RTE_dev/cbow/cbow_3_class_rte_dev_predictions.csv\n",
            "model_predictions/MNLI_train_RTE_dev/cbow/cbow_2_class_hypo_only_rte_test_p_predictions.csv\n",
            "model_predictions/MNLI_train_RTE_dev/cbow/cbow_3_class_hypo_only_rte_test_predictions.csv\n",
            "model_predictions/MNLI_train_RTE_dev/cbow/cbow_2_class_rte_dev_predictions.csv\n",
            "model_predictions/MNLI_train_RTE_dev/cbow/cbow_3_class_rte_test_predictions.csv\n",
            "model_predictions/MNLI_train_RTE_dev/cbow/cbow_2_class_hypo_only_rte_test_predictions.csv\n",
            "model_predictions/MNLI_train_RTE_dev/bert-base-uncased/\n",
            "model_predictions/MNLI_train_RTE_dev/bert-base-uncased/bert_base_3_class_rte_test_p_predictions.csv\n",
            "model_predictions/MNLI_train_RTE_dev/bert-base-uncased/bert_base_2_class_rte_test_predictions.csv\n",
            "model_predictions/MNLI_train_RTE_dev/bert-base-uncased/bert_base_2_class_rte_test_p_predictions.csv\n",
            "model_predictions/MNLI_train_RTE_dev/bert-base-uncased/bert_base_2_class_rte_dev_predictions.csv\n",
            "model_predictions/MNLI_train_RTE_dev/bert-base-uncased/bert_base_3_class_hypo_only_rte_dev_predictions.csv\n",
            "model_predictions/MNLI_train_RTE_dev/bert-base-uncased/bert_base_3_class_rte_test_predictions.csv\n",
            "model_predictions/MNLI_train_RTE_dev/bert-base-uncased/bert_base_2_class_hypo_only_rte_test_predictions.csv\n",
            "model_predictions/MNLI_train_RTE_dev/bert-base-uncased/bert_base_2_class_hypo_only_rte_dev_predictions.csv\n",
            "model_predictions/MNLI_train_RTE_dev/bert-base-uncased/bert_base_3_class_hypo_only_rte_test_p_predictions.csv\n",
            "model_predictions/MNLI_train_RTE_dev/bert-base-uncased/bert_base_2_class_hypo_only_rte_test_p_predictions.csv\n",
            "model_predictions/MNLI_train_RTE_dev/bert-base-uncased/bert_base_3_class_hypo_only_rte_test_predictions.csv\n",
            "model_predictions/MNLI_train_RTE_dev/bert-base-uncased/bert_base_3_class_rte_dev_predictions.csv\n",
            "model_predictions/MNLI_train_RTE_dev/bilstm/\n",
            "model_predictions/MNLI_train_RTE_dev/bilstm/bilstm_2_class_rte_test_predictions.csv\n",
            "model_predictions/MNLI_train_RTE_dev/bilstm/bilstm_3_class_rte_dev_predictions.csv\n",
            "model_predictions/MNLI_train_RTE_dev/bilstm/bilstm_3_class_rte_test_p_predictions.csv\n",
            "model_predictions/MNLI_train_RTE_dev/bilstm/bilstm_2_class_hypo_only_rte_test_predictions.csv\n",
            "model_predictions/MNLI_train_RTE_dev/bilstm/bilstm_3_class_hypo_only_rte_dev_predictions.csv\n",
            "model_predictions/MNLI_train_RTE_dev/bilstm/bilstm_3_class_hypo_only_rte_test_predictions.csv\n",
            "model_predictions/MNLI_train_RTE_dev/bilstm/bilstm_3_class_rte_test_predictions.csv\n",
            "model_predictions/MNLI_train_RTE_dev/bilstm/bilstm_3_class_hypo_only_rte_test_p_predictions.csv\n",
            "model_predictions/MNLI_train_RTE_dev/bilstm/bilstm_2_class_rte_test_p_predictions.csv\n",
            "model_predictions/MNLI_train_RTE_dev/bilstm/bilstm_2_class_hypo_only_rte_dev_predictions.csv\n",
            "model_predictions/MNLI_train_RTE_dev/bilstm/bilstm_2_class_hypo_only_rte_test_p_predictions.csv\n",
            "model_predictions/MNLI_train_RTE_dev/bilstm/bilstm_2_class_rte_dev_predictions.csv\n",
            "model_predictions/MNLI_train_RTE_dev/roberta-large/\n",
            "model_predictions/MNLI_train_RTE_dev/roberta-large/roberta_large_2_class_rte_test_p_predictions.csv\n",
            "model_predictions/MNLI_train_RTE_dev/roberta-large/roberta_large_3_class_rte_test+p_predictions.csv\n",
            "model_predictions/MNLI_train_RTE_dev/roberta-large/roberta_large_3_class_hypo_only_rte_test_p_predictions.csv\n",
            "model_predictions/MNLI_train_RTE_dev/roberta-large/roberta_large_2_class_hypo_only_rte_test_p_predictions.csv\n",
            "model_predictions/MNLI_train_RTE_paraphrased_dev/\n",
            "model_predictions/MNLI_train_RTE_paraphrased_dev/roberta/\n",
            "model_predictions/MNLI_train_RTE_paraphrased_dev/roberta/roberta-base/\n",
            "model_predictions/MNLI_train_RTE_paraphrased_dev/roberta/roberta-base/roberta_base_3_class_rte_dev_p_predictions.csv\n",
            "model_predictions/MNLI_train_RTE_paraphrased_dev/roberta/roberta-base/roberta_base_3_class_rte_test_predictions.csv\n",
            "model_predictions/MNLI_train_RTE_paraphrased_dev/roberta/roberta-base/roberta_base_2_class_rte_dev_p_predictions.csv\n",
            "model_predictions/MNLI_train_RTE_paraphrased_dev/roberta/roberta-base/roberta_base_2_class_rte_test_p_predictions.csv\n",
            "model_predictions/MNLI_train_RTE_paraphrased_dev/roberta/roberta-base/roberta_base_2_class_hypo_only_mnli_mismatched_predictions.csv\n",
            "model_predictions/MNLI_train_RTE_paraphrased_dev/roberta/roberta-base/roberta_base_2_class_hypo_only_rte_test_p_predictions.csv\n",
            "model_predictions/MNLI_train_RTE_paraphrased_dev/roberta/roberta-base/roberta_base_2_class_mnli_mismatched_predictions.csv\n",
            "model_predictions/MNLI_train_RTE_paraphrased_dev/roberta/roberta-base/roberta_base_2_class_mnli_matched_predictions.csv\n",
            "model_predictions/MNLI_train_RTE_paraphrased_dev/roberta/roberta-base/roberta_base_3_class_mnli_matched_predictions.csv\n",
            "model_predictions/MNLI_train_RTE_paraphrased_dev/roberta/roberta-base/roberta_base_3_class_mnli_mismatched_predictions.csv\n",
            "model_predictions/MNLI_train_RTE_paraphrased_dev/roberta/roberta-base/roberta_base_3_class_hypo_only_rte_dev_p_predictions.csv\n",
            "model_predictions/MNLI_train_RTE_paraphrased_dev/roberta/roberta-base/roberta_base_3_class_hypo_only_rte_test_predictions.csv\n",
            "model_predictions/MNLI_train_RTE_paraphrased_dev/roberta/roberta-base/roberta_base_3_class_rte_test_p_predictions.csv\n",
            "model_predictions/MNLI_train_RTE_paraphrased_dev/roberta/roberta-base/roberta_base_3_class_hypo_only_rte_test_p_predictions.csv\n",
            "model_predictions/MNLI_train_RTE_paraphrased_dev/roberta/roberta-base/roberta_base_2_class_hypo_only_rte_test_predictions.csv\n",
            "model_predictions/MNLI_train_RTE_paraphrased_dev/roberta/roberta-base/roberta_base_2_class_rte_test_predictions.csv\n",
            "model_predictions/MNLI_train_RTE_paraphrased_dev/roberta/roberta-base/roberta_base_3_class_hypo_only_mnli_matched_predictions.csv\n",
            "model_predictions/MNLI_train_RTE_paraphrased_dev/roberta/roberta-base/roberta_base_2_class_hypo_only_mnli_matched_predictions.csv\n",
            "model_predictions/MNLI_train_RTE_paraphrased_dev/roberta/roberta-base/roberta_base_2_class_hypo_only_rte_dev_p_predictions.csv\n",
            "model_predictions/MNLI_train_RTE_paraphrased_dev/roberta/roberta-base/roberta_base_3_class_hypo_only_mnli_mismatched_predictions.csv\n",
            "model_predictions/MNLI_train_RTE_paraphrased_dev/roberta/roberta-large/\n",
            "model_predictions/MNLI_train_RTE_paraphrased_dev/roberta/roberta-large/roberta_large_3_class_hypo_only_mnli_mismatched_predictions.csv\n",
            "model_predictions/MNLI_train_RTE_paraphrased_dev/roberta/roberta-large/roberta_large_2_class_hypo_only_mnli_matched_predictions.csv\n",
            "model_predictions/MNLI_train_RTE_paraphrased_dev/roberta/roberta-large/roberta_large_3_class_hypo_only_rte_test_predictions.csv\n",
            "model_predictions/MNLI_train_RTE_paraphrased_dev/roberta/roberta-large/roberta_large_2_class_rte_test_p_predictions.csv\n",
            "model_predictions/MNLI_train_RTE_paraphrased_dev/roberta/roberta-large/roberta_large_2_class_hypo_only_rte_test_predictions.csv\n",
            "model_predictions/MNLI_train_RTE_paraphrased_dev/roberta/roberta-large/roberta_large_3_class_mnli_matched_predictions.csv\n",
            "model_predictions/MNLI_train_RTE_paraphrased_dev/roberta/roberta-large/roberta_large_2_class_hypo_only_rte_dev_p_predictions.csv\n",
            "model_predictions/MNLI_train_RTE_paraphrased_dev/roberta/roberta-large/roberta_large_3_class_mnli_mismatched_predictions.csv\n",
            "model_predictions/MNLI_train_RTE_paraphrased_dev/roberta/roberta-large/roberta_large_3_class_rte_test_p_predictions.csv\n",
            "model_predictions/MNLI_train_RTE_paraphrased_dev/roberta/roberta-large/roberta_large_2_class_rte_test_predictions.csv\n",
            "model_predictions/MNLI_train_RTE_paraphrased_dev/roberta/roberta-large/roberta_large_3_class_hypo_only_mnli_matched_predictions.csv\n",
            "model_predictions/MNLI_train_RTE_paraphrased_dev/roberta/roberta-large/roberta_large_2_class_mnli_matched_predictions.csv\n",
            "model_predictions/MNLI_train_RTE_paraphrased_dev/roberta/roberta-large/roberta_large_2_class_mnli_mismatched_predictions.csv\n",
            "model_predictions/MNLI_train_RTE_paraphrased_dev/roberta/roberta-large/roberta_large_2_class_rte_dev_p_predictions.csv\n",
            "model_predictions/MNLI_train_RTE_paraphrased_dev/roberta/roberta-large/roberta_large_3_class_hypo_only_rte_test_p_predictions.csv\n",
            "model_predictions/MNLI_train_RTE_paraphrased_dev/roberta/roberta-large/roberta_large_2_class_hypo_only_rte_test_p_predictions.csv\n",
            "model_predictions/MNLI_train_RTE_paraphrased_dev/roberta/roberta-large/roberta_large_3_class_hypo_only_rte_dev_p_predictions.csv\n",
            "model_predictions/MNLI_train_RTE_paraphrased_dev/roberta/roberta-large/roberta_large_3_class_rte_dev_p_predictions.csv\n",
            "model_predictions/MNLI_train_RTE_paraphrased_dev/roberta/roberta-large/roberta_large_2_class_hypo_only_mnli_mismatched_predictions.csv\n",
            "model_predictions/MNLI_train_RTE_paraphrased_dev/roberta/roberta-large/roberta_large_3_class_rte_test_predictions.csv\n",
            "model_predictions/MNLI_train_RTE_paraphrased_dev/cbow/\n",
            "model_predictions/MNLI_train_RTE_paraphrased_dev/cbow/cbow_3_class_hypo_only_rte_dev_p_predictions.csv\n",
            "model_predictions/MNLI_train_RTE_paraphrased_dev/cbow/cbow_3_class_hypo_only_rte_test_p_predictions.csv\n",
            "model_predictions/MNLI_train_RTE_paraphrased_dev/cbow/cbow_3_class_rte_test_p_predictions.csv\n",
            "model_predictions/MNLI_train_RTE_paraphrased_dev/cbow/cbow_3_class_hypo_only_mnli_mismatched_predictions.csv\n",
            "model_predictions/MNLI_train_RTE_paraphrased_dev/cbow/cbow_2_class_rte_dev_p_predictions.csv\n",
            "model_predictions/MNLI_train_RTE_paraphrased_dev/cbow/cbow_3_class_mnli_mismatched_predictions.csv\n",
            "model_predictions/MNLI_train_RTE_paraphrased_dev/cbow/cbow_2_class_rte_test_p_predictions.csv\n",
            "model_predictions/MNLI_train_RTE_paraphrased_dev/cbow/cbow_2_class_mnli_mismatched_predictions.csv\n",
            "model_predictions/MNLI_train_RTE_paraphrased_dev/cbow/cbow_3_class_mnli_matched_predictions.csv\n",
            "model_predictions/MNLI_train_RTE_paraphrased_dev/cbow/cbow_2_class_hypo_only_mnli_matched_predictions.csv\n",
            "model_predictions/MNLI_train_RTE_paraphrased_dev/cbow/cbow_2_class_mnli_matched_predictions.csv\n",
            "model_predictions/MNLI_train_RTE_paraphrased_dev/cbow/cbow_2_class_rte_test_predictions.csv\n",
            "model_predictions/MNLI_train_RTE_paraphrased_dev/cbow/cbow_2_class_hypo_only_rte_test_p_predictions.csv\n",
            "model_predictions/MNLI_train_RTE_paraphrased_dev/cbow/cbow_3_class_hypo_only_rte_test_predictions.csv\n",
            "model_predictions/MNLI_train_RTE_paraphrased_dev/cbow/cbow_3_class_rte_dev_p_predictions.csv\n",
            "model_predictions/MNLI_train_RTE_paraphrased_dev/cbow/cbow_2_class_hypo_only_rte_dev_p_predictions.csv\n",
            "model_predictions/MNLI_train_RTE_paraphrased_dev/cbow/cbow_3_class_hypo_only_mnli_matched_predictions.csv\n",
            "model_predictions/MNLI_train_RTE_paraphrased_dev/cbow/cbow_2_class_hypo_only_mnli_mismatched_predictions.csv\n",
            "model_predictions/MNLI_train_RTE_paraphrased_dev/cbow/cbow_3_class_rte_test_predictions.csv\n",
            "model_predictions/MNLI_train_RTE_paraphrased_dev/cbow/cbow_2_class_hypo_only_rte_test_predictions.csv\n",
            "model_predictions/MNLI_train_RTE_paraphrased_dev/bert/\n",
            "model_predictions/MNLI_train_RTE_paraphrased_dev/bert/bert-large-uncased/\n",
            "model_predictions/MNLI_train_RTE_paraphrased_dev/bert/bert-large-uncased/bert_large_2_class_rte_test_p_predictions.csv\n",
            "model_predictions/MNLI_train_RTE_paraphrased_dev/bert/bert-large-uncased/bert_large_2_class_hypo_only_rte_dev_p_predictions.csv\n",
            "model_predictions/MNLI_train_RTE_paraphrased_dev/bert/bert-large-uncased/bert_large_3_class_rte_dev_p_predictions.csv\n",
            "model_predictions/MNLI_train_RTE_paraphrased_dev/bert/bert-large-uncased/bert_large_3_class_mnli_matched_predictions.csv\n",
            "model_predictions/MNLI_train_RTE_paraphrased_dev/bert/bert-large-uncased/bert_large_2_class_mnli_matched_predictions.csv\n",
            "model_predictions/MNLI_train_RTE_paraphrased_dev/bert/bert-large-uncased/bert_large_3_class_hypo_only_mnli_matched_predictions.csv\n",
            "model_predictions/MNLI_train_RTE_paraphrased_dev/bert/bert-large-uncased/bert_large_2_class_hypo_only_mnli_mismatched_predictions.csv\n",
            "model_predictions/MNLI_train_RTE_paraphrased_dev/bert/bert-large-uncased/bert_large_3_class_hypo_only_mnli_mismatched_predictions.csv\n",
            "model_predictions/MNLI_train_RTE_paraphrased_dev/bert/bert-large-uncased/bert_large_2_class_mnli_mismatched_predictions.csv\n",
            "model_predictions/MNLI_train_RTE_paraphrased_dev/bert/bert-large-uncased/bert_large_2_class_rte_dev_p_predictions.csv\n",
            "model_predictions/MNLI_train_RTE_paraphrased_dev/bert/bert-large-uncased/bert_large_3_class_rte_test_p_predictions.csv\n",
            "model_predictions/MNLI_train_RTE_paraphrased_dev/bert/bert-large-uncased/bert_large_2_class_hypo_only_rte_test_predictions.csv\n",
            "model_predictions/MNLI_train_RTE_paraphrased_dev/bert/bert-large-uncased/bert_large_3_class_mnli_mismatched_predictions.csv\n",
            "model_predictions/MNLI_train_RTE_paraphrased_dev/bert/bert-large-uncased/bert_large_2_class_rte_test_predictions.csv\n",
            "model_predictions/MNLI_train_RTE_paraphrased_dev/bert/bert-large-uncased/bert_large_2_class_hypo_only_mnli_matched_predictions.csv\n",
            "model_predictions/MNLI_train_RTE_paraphrased_dev/bert/bert-large-uncased/bert_large_3_class_hypo_only_rte_test_predictions.csv\n",
            "model_predictions/MNLI_train_RTE_paraphrased_dev/bert/bert-large-uncased/bert_large_3_class_rte_test_predictions.csv\n",
            "model_predictions/MNLI_train_RTE_paraphrased_dev/bert/bert-large-uncased/bert_large_3_class_hypo_only_rte_test_p_predictions.csv\n",
            "model_predictions/MNLI_train_RTE_paraphrased_dev/bert/bert-large-uncased/bert_large_2_class_hypo_only_rte_test_p_predictions.csv\n",
            "model_predictions/MNLI_train_RTE_paraphrased_dev/bert/bert-large-uncased/bert_large_3_class_hypo_only_rte_dev_p_predictions.csv\n",
            "model_predictions/MNLI_train_RTE_paraphrased_dev/bert/bert-base-uncased/\n",
            "model_predictions/MNLI_train_RTE_paraphrased_dev/bert/bert-base-uncased/bert_base_3_class_rte_test_p_predictions.csv\n",
            "model_predictions/MNLI_train_RTE_paraphrased_dev/bert/bert-base-uncased/bert_base_2_class_mnli_mismatched_predictions.csv\n",
            "model_predictions/MNLI_train_RTE_paraphrased_dev/bert/bert-base-uncased/bert_base_2_class_rte_test_predictions.csv\n",
            "model_predictions/MNLI_train_RTE_paraphrased_dev/bert/bert-base-uncased/bert_base_2_class_mnli_matched_predictions.csv\n",
            "model_predictions/MNLI_train_RTE_paraphrased_dev/bert/bert-base-uncased/bert_base_2_class_rte_test_p_predictions.csv\n",
            "model_predictions/MNLI_train_RTE_paraphrased_dev/bert/bert-base-uncased/bert_base_2_class_rte_dev_p_predictions.csv\n",
            "model_predictions/MNLI_train_RTE_paraphrased_dev/bert/bert-base-uncased/bert_base_2_class_hypo_only_mnli_matched_predictions.csv\n",
            "model_predictions/MNLI_train_RTE_paraphrased_dev/bert/bert-base-uncased/bert_base_3_class_hypo_only_rte_dev_p_predictions.csv\n",
            "model_predictions/MNLI_train_RTE_paraphrased_dev/bert/bert-base-uncased/bert_base_3_class_mnli_matched_predictions.csv\n",
            "model_predictions/MNLI_train_RTE_paraphrased_dev/bert/bert-base-uncased/bert_base_3_class_rte_test_predictions.csv\n",
            "model_predictions/MNLI_train_RTE_paraphrased_dev/bert/bert-base-uncased/bert_base_2_class_hypo_only_rte_test_predictions.csv\n",
            "model_predictions/MNLI_train_RTE_paraphrased_dev/bert/bert-base-uncased/bert_base_2_class_hypo_only_rte_dev_p_predictions.csv\n",
            "model_predictions/MNLI_train_RTE_paraphrased_dev/bert/bert-base-uncased/bert_base_3_class_hypo_only_rte_test_p_predictions.csv\n",
            "model_predictions/MNLI_train_RTE_paraphrased_dev/bert/bert-base-uncased/bert_base_3_class_hypo_only_mnli_matched_predictions.csv\n",
            "model_predictions/MNLI_train_RTE_paraphrased_dev/bert/bert-base-uncased/bert_base_2_class_hypo_only_rte_test_p_predictions.csv\n",
            "model_predictions/MNLI_train_RTE_paraphrased_dev/bert/bert-base-uncased/bert_base_2_class_hypo_only_mnli_mismatched_predictions.csv\n",
            "model_predictions/MNLI_train_RTE_paraphrased_dev/bert/bert-base-uncased/bert_base_3_class_hypo_only_rte_test_predictions.csv\n",
            "model_predictions/MNLI_train_RTE_paraphrased_dev/bert/bert-base-uncased/bert_base_3_class_mnli_mismatched_predictions.csv\n",
            "model_predictions/MNLI_train_RTE_paraphrased_dev/bert/bert-base-uncased/bert_base_3_class_hypo_only_mnli_mismatched_predictions.csv\n",
            "model_predictions/MNLI_train_RTE_paraphrased_dev/bert/bert-base-uncased/bert_base_3_class_rte_dev_p_predictions.csv\n",
            "model_predictions/MNLI_train_RTE_paraphrased_dev/bilstm/\n",
            "model_predictions/MNLI_train_RTE_paraphrased_dev/bilstm/bilstm_2_class_rte_test_predictions.csv\n",
            "model_predictions/MNLI_train_RTE_paraphrased_dev/bilstm/bilstm_2_class_hypo_only_mnli_mismatched_predictions.csv\n",
            "model_predictions/MNLI_train_RTE_paraphrased_dev/bilstm/bilstm_2_class_rte_dev_p_predictions.csv\n",
            "model_predictions/MNLI_train_RTE_paraphrased_dev/bilstm/bilstm_3_class_rte_dev_p_predictions.csv\n",
            "model_predictions/MNLI_train_RTE_paraphrased_dev/bilstm/bilstm_3_class_rte_test_p_predictions.csv\n",
            "model_predictions/MNLI_train_RTE_paraphrased_dev/bilstm/bilstm_2_class_hypo_only_rte_test_predictions.csv\n",
            "model_predictions/MNLI_train_RTE_paraphrased_dev/bilstm/bilstm_3_class_mnli_matched_predictions.csv\n",
            "model_predictions/MNLI_train_RTE_paraphrased_dev/bilstm/bilstm_3_class_hypo_only_rte_test_predictions.csv\n",
            "model_predictions/MNLI_train_RTE_paraphrased_dev/bilstm/bilstm_2_class_hypo_only_mnli_matched_predictions.csv\n",
            "model_predictions/MNLI_train_RTE_paraphrased_dev/bilstm/bilstm_2_class_hypo_only_rte_dev_p_predictions.csv\n",
            "model_predictions/MNLI_train_RTE_paraphrased_dev/bilstm/bilstm_3_class_hypo_only_mnli_matched_predictions.csv\n",
            "model_predictions/MNLI_train_RTE_paraphrased_dev/bilstm/bilstm_3_class_rte_test_predictions.csv\n",
            "model_predictions/MNLI_train_RTE_paraphrased_dev/bilstm/bilstm_3_class_hypo_only_rte_test_p_predictions.csv\n",
            "model_predictions/MNLI_train_RTE_paraphrased_dev/bilstm/bilstm_2_class_rte_test_p_predictions.csv\n",
            "model_predictions/MNLI_train_RTE_paraphrased_dev/bilstm/bilstm_3_class_mnli_mismatched_predictions.csv\n",
            "model_predictions/MNLI_train_RTE_paraphrased_dev/bilstm/bilstm_2_class_mnli_mismatched_predictions.csv\n",
            "model_predictions/MNLI_train_RTE_paraphrased_dev/bilstm/bilstm_2_class_hypo_only_rte_test_p_predictions.csv\n",
            "model_predictions/MNLI_train_RTE_paraphrased_dev/bilstm/bilstm_2_class_mnli_matched_predictions.csv\n",
            "model_predictions/MNLI_train_RTE_paraphrased_dev/bilstm/bilstm_3_class_hypo_only_rte_dev_p_predictions.csv\n",
            "model_predictions/MNLI_train_RTE_paraphrased_dev/bilstm/bilstm_3_class_hypo_only_mnli_mismatched_predictions.csv\n",
            "model_predictions/MNLI_train_MNLI_dev/\n",
            "model_predictions/MNLI_train_MNLI_dev/roberta/\n",
            "model_predictions/MNLI_train_MNLI_dev/roberta/roberta-base/\n",
            "model_predictions/MNLI_train_MNLI_dev/roberta/roberta-base/roberta_base_3_class_rte_test_predictions.csv\n",
            "model_predictions/MNLI_train_MNLI_dev/roberta/roberta-base/roberta_base_3_class_hypo_only_mnli_dev_predictions.csv\n",
            "model_predictions/MNLI_train_MNLI_dev/roberta/roberta-base/roberta_base_2_class_rte_test_p_predictions.csv\n",
            "model_predictions/MNLI_train_MNLI_dev/roberta/roberta-base/roberta_base_2_class_hypo_only_rte_test_p_predictions.csv\n",
            "model_predictions/MNLI_train_MNLI_dev/roberta/roberta-base/roberta_base_2_class_mnli_dev_predictions.csv\n",
            "model_predictions/MNLI_train_MNLI_dev/roberta/roberta-base/roberta_base_3_class_mnli_dev_predictions.csv\n",
            "model_predictions/MNLI_train_MNLI_dev/roberta/roberta-base/roberta_base_3_class_hypo_only_rte_test_predictions.csv\n",
            "model_predictions/MNLI_train_MNLI_dev/roberta/roberta-base/roberta_base_3_class_rte_test_p_predictions.csv\n",
            "model_predictions/MNLI_train_MNLI_dev/roberta/roberta-base/roberta_base_3_class_hypo_only_rte_test_p_predictions.csv\n",
            "model_predictions/MNLI_train_MNLI_dev/roberta/roberta-base/roberta_base_2_class_hypo_only_mnli_dev_predictions.csv\n",
            "model_predictions/MNLI_train_MNLI_dev/roberta/roberta-base/roberta_base_2_class_hypo_only_rte_test_predictions.csv\n",
            "model_predictions/MNLI_train_MNLI_dev/roberta/roberta-base/roberta_base_2_class_rte_test_predictions.csv\n",
            "model_predictions/MNLI_train_MNLI_dev/roberta/roberta-large/\n",
            "model_predictions/MNLI_train_MNLI_dev/roberta/roberta-large/roberta_large_3_class_hypo_only_mnli_dev_predictions.csv\n",
            "model_predictions/MNLI_train_MNLI_dev/roberta/roberta-large/roberta_large_3_class_hypo_only_rte_test_predictions.csv\n",
            "model_predictions/MNLI_train_MNLI_dev/roberta/roberta-large/roberta_large_2_class_rte_test_p_predictions.csv\n",
            "model_predictions/MNLI_train_MNLI_dev/roberta/roberta-large/roberta_large_2_class_hypo_only_rte_test_predictions.csv\n",
            "model_predictions/MNLI_train_MNLI_dev/roberta/roberta-large/roberta_large_3_class_rte_test_p_predictions.csv\n",
            "model_predictions/MNLI_train_MNLI_dev/roberta/roberta-large/roberta_large_2_class_rte_test_predictions.csv\n",
            "model_predictions/MNLI_train_MNLI_dev/roberta/roberta-large/roberta_large_2_class_mnli_dev_predictions.csv\n",
            "model_predictions/MNLI_train_MNLI_dev/roberta/roberta-large/roberta_large_3_class_hypo_only_rte_test_p_predictions.csv\n",
            "model_predictions/MNLI_train_MNLI_dev/roberta/roberta-large/roberta_large_2_class_hypo_only_rte_test_p_predictions.csv\n",
            "model_predictions/MNLI_train_MNLI_dev/roberta/roberta-large/roberta_large_2_class_hypo_only_mnli_dev_predictions.csv\n",
            "model_predictions/MNLI_train_MNLI_dev/roberta/roberta-large/roberta_large_3_class_mnli_dev_predictions.csv\n",
            "model_predictions/MNLI_train_MNLI_dev/roberta/roberta-large/roberta_large_3_class_rte_test_predictions.csv\n",
            "model_predictions/MNLI_train_MNLI_dev/cbow/\n",
            "model_predictions/MNLI_train_MNLI_dev/cbow/cbow_3_class_hypo_only_rte_test_p_predictions.csv\n",
            "model_predictions/MNLI_train_MNLI_dev/cbow/cbow_2_class_mnli_dev_predictions.csv\n",
            "model_predictions/MNLI_train_MNLI_dev/cbow/cbow_3_class_rte_test_p_predictions.csv\n",
            "model_predictions/MNLI_train_MNLI_dev/cbow/cbow_2_class_rte_test_p_predictions.csv\n",
            "model_predictions/MNLI_train_MNLI_dev/cbow/cbow_2_class_rte_test_predictions.csv\n",
            "model_predictions/MNLI_train_MNLI_dev/cbow/cbow_3_class_hypo_only_mnli_dev_predictions.csv\n",
            "model_predictions/MNLI_train_MNLI_dev/cbow/cbow_2_class_hypo_only_rte_test_p_predictions.csv\n",
            "model_predictions/MNLI_train_MNLI_dev/cbow/cbow_3_class_hypo_only_rte_test_predictions.csv\n",
            "model_predictions/MNLI_train_MNLI_dev/cbow/cbow_3_class_mnli_dev_predictions.csv\n",
            "model_predictions/MNLI_train_MNLI_dev/cbow/cbow_2_class_hypo_only_mnli_dev_predictions.csv\n",
            "model_predictions/MNLI_train_MNLI_dev/cbow/cbow_3_class_rte_test_predictions.csv\n",
            "model_predictions/MNLI_train_MNLI_dev/cbow/cbow_2_class_hypo_only_rte_test_predictions.csv\n",
            "model_predictions/MNLI_train_MNLI_dev/bert/\n",
            "model_predictions/MNLI_train_MNLI_dev/bert/bert-large-uncased/\n",
            "model_predictions/MNLI_train_MNLI_dev/bert/bert-large-uncased/bert_large_2_class_rte_test_p_predictions.csv\n",
            "model_predictions/MNLI_train_MNLI_dev/bert/bert-large-uncased/bert_large_2_class_hypo_only_mnli_dev_predictions.csv\n",
            "model_predictions/MNLI_train_MNLI_dev/bert/bert-large-uncased/bert_large_3_class_mnli_matched_predictions.csv\n",
            "model_predictions/MNLI_train_MNLI_dev/bert/bert-large-uncased/bert_large_2_class_mnli_matched_predictions.csv\n",
            "model_predictions/MNLI_train_MNLI_dev/bert/bert-large-uncased/bert_large_2_class_mnli_dev_predictions.csv\n",
            "model_predictions/MNLI_train_MNLI_dev/bert/bert-large-uncased/bert_large_3_class_rte_test_p_predictions.csv\n",
            "model_predictions/MNLI_train_MNLI_dev/bert/bert-large-uncased/bert_large_2_class_hypo_only_rte_test_predictions.csv\n",
            "model_predictions/MNLI_train_MNLI_dev/bert/bert-large-uncased/bert_large_2_class_rte_test_predictions.csv\n",
            "model_predictions/MNLI_train_MNLI_dev/bert/bert-large-uncased/bert_large_2_class_hypo_only_mnli_matched_predictions.csv\n",
            "model_predictions/MNLI_train_MNLI_dev/bert/bert-large-uncased/bert_large_3_class_rte_test_predictions.csv\n",
            "model_predictions/MNLI_train_MNLI_dev/bert/bert-large-uncased/bert_large_3_class_mnli_dev_predictions.csv\n",
            "model_predictions/MNLI_train_MNLI_dev/bert/bert-large-uncased/bert_large_2_class_hypo_only_rte_test_p_predictions.csv\n",
            "model_predictions/MNLI_train_MNLI_dev/bert/bert-base-uncased/\n",
            "model_predictions/MNLI_train_MNLI_dev/bert/bert-base-uncased/bert_base_3_class_rte_test_p_predictions.csv\n",
            "model_predictions/MNLI_train_MNLI_dev/bert/bert-base-uncased/bert_base_2_class_rte_test_predictions.csv\n",
            "model_predictions/MNLI_train_MNLI_dev/bert/bert-base-uncased/bert_base_2_class_mnli_matched_predictions.csv\n",
            "model_predictions/MNLI_train_MNLI_dev/bert/bert-base-uncased/bert_base_2_class_rte_test_p_predictions.csv\n",
            "model_predictions/MNLI_train_MNLI_dev/bert/bert-base-uncased/bert_base_2_class_hypo_only_mnli_dev_predictions.csv\n",
            "model_predictions/MNLI_train_MNLI_dev/bert/bert-base-uncased/bert_base_3_class_hypo_only_mnli_dev_predictions.csv\n",
            "model_predictions/MNLI_train_MNLI_dev/bert/bert-base-uncased/bert_base_2_class_hypo_only_mnli_matched_predictions.csv\n",
            "model_predictions/MNLI_train_MNLI_dev/bert/bert-base-uncased/bert_base_3_class_mnli_matched_predictions.csv\n",
            "model_predictions/MNLI_train_MNLI_dev/bert/bert-base-uncased/bert_base_3_class_rte_test_predictions.csv\n",
            "model_predictions/MNLI_train_MNLI_dev/bert/bert-base-uncased/bert_base_2_class_hypo_only_rte_test_predictions.csv\n",
            "model_predictions/MNLI_train_MNLI_dev/bert/bert-base-uncased/bert_base_3_class_hypo_only_rte_test_p_predictions.csv\n",
            "model_predictions/MNLI_train_MNLI_dev/bert/bert-base-uncased/bert_base_3_class_hypo_only_mnli_matched_predictions.csv\n",
            "model_predictions/MNLI_train_MNLI_dev/bert/bert-base-uncased/bert_base_2_class_hypo_only_rte_test_p_predictions.csv\n",
            "model_predictions/MNLI_train_MNLI_dev/bert/bert-base-uncased/bert_base_3_class_hypo_only_rte_test_predictions.csv\n",
            "model_predictions/MNLI_train_MNLI_dev/bert/bert-base-uncased/bert_base_3_class_mnli_dev_predictions.csv\n",
            "model_predictions/MNLI_train_MNLI_dev/bert/bert-base-uncased/bert_base_2_class_mnli_dev_predictions.csv\n",
            "model_predictions/MNLI_train_MNLI_dev/bilstm/\n",
            "model_predictions/MNLI_train_MNLI_dev/bilstm/bilstm_2_class_rte_test_predictions.csv\n",
            "model_predictions/MNLI_train_MNLI_dev/bilstm/bilstm_3_class_hypo_only_mnli_dev_predictions.csv\n",
            "model_predictions/MNLI_train_MNLI_dev/bilstm/bilstm_3_class_rte_test_p_predictions.csv\n",
            "model_predictions/MNLI_train_MNLI_dev/bilstm/bilstm_2_class_hypo_only_rte_test_predictions.csv\n",
            "model_predictions/MNLI_train_MNLI_dev/bilstm/bilstm_3_class_hypo_only_rte_test_predictions.csv\n",
            "model_predictions/MNLI_train_MNLI_dev/bilstm/bilstm_2_class_hypo_only_mnli_dev_predictions.csv\n",
            "model_predictions/MNLI_train_MNLI_dev/bilstm/bilstm_2_class_mnli_dev_predictions.csv\n",
            "model_predictions/MNLI_train_MNLI_dev/bilstm/bilstm_3_class_rte_test_predictions.csv\n",
            "model_predictions/MNLI_train_MNLI_dev/bilstm/bilstm_3_class_hypo_only_rte_test_p_predictions.csv\n",
            "model_predictions/MNLI_train_MNLI_dev/bilstm/bilstm_2_class_rte_test_p_predictions.csv\n",
            "model_predictions/MNLI_train_MNLI_dev/bilstm/bilstm_3_class_mnli_dev_predictions.csv\n",
            "model_predictions/MNLI_train_MNLI_dev/bilstm/bilstm_2_class_hypo_only_rte_test_p_predictions.csv\n"
          ]
        }
      ]
    },
    {
      "cell_type": "code",
      "source": [
        "%cd /content/model_predictions/MNLI_train_RTE_paraphrased_dev/cbow/"
      ],
      "metadata": {
        "colab": {
          "base_uri": "https://localhost:8080/"
        },
        "id": "0l9dodavgRCo",
        "outputId": "d6d9fe0b-e5fd-4010-fe0a-97b1ab399650"
      },
      "execution_count": null,
      "outputs": [
        {
          "output_type": "stream",
          "name": "stdout",
          "text": [
            "/content/model_predictions/MNLI_train_RTE_paraphrased_dev/cbow\n"
          ]
        }
      ]
    },
    {
      "cell_type": "code",
      "source": [
        "import pandas as pd\n",
        "import json\n",
        "import numpy as np\n",
        "from scipy import stats\n",
        "from tqdm import tqdm\n",
        "# np.random.seed(42)"
      ],
      "metadata": {
        "id": "k3rzhgp3gTIu"
      },
      "execution_count": null,
      "outputs": []
    },
    {
      "cell_type": "code",
      "source": [
        "def read_jsonl_file(path):\n",
        "  with open(path, 'r') as json_file:\n",
        "      json_list = list(json_file)\n",
        "\n",
        "  results = []\n",
        "  for json_str in json_list:\n",
        "      results.append(json.loads(json_str))\n",
        "  return results"
      ],
      "metadata": {
        "id": "NlChlD1jgUjZ"
      },
      "execution_count": null,
      "outputs": []
    },
    {
      "cell_type": "code",
      "source": [
        "test_data = pd.DataFrame(read_jsonl_file(\"/content/gdrive/MyDrive/paraphraser_work/Final_datasets/rte_test_p.jsonl\")) # Unannotated dataset: /content/gdrive/MyDrive/paraphraser_work/MTurk data/Generated_dataset/rte_test_paraphrased_p_d_or_h_d_sorted.jsonl\n",
        "test_data = test_data.fillna(value=np.nan)"
      ],
      "metadata": {
        "id": "2qNkDOXngVtm"
      },
      "execution_count": null,
      "outputs": []
    },
    {
      "cell_type": "code",
      "source": [
        "# THIS IS KEY TO OUR WORK, DO NOT ALTER\n",
        "def merge_data(test_data, predictions):\n",
        "  df = pd.DataFrame()\n",
        "\n",
        "  for index, row in test_data.iterrows():\n",
        "    dataset = row['dataset']\n",
        "    corpus_sent_id = row['corpus_sent_id']\n",
        "    s1_para_id = row['s1_para_id']\n",
        "    s2_para_id = row['s2_para_id']\n",
        "    prediction_rows = predictions[(predictions['dataset'] == dataset) & (predictions['corpus_sent_id'] == corpus_sent_id)]\n",
        "    if pd.isnull(s1_para_id) and pd.isnull(s2_para_id):\n",
        "      prediction_rows = prediction_rows[(prediction_rows['s1_para_id'].isnull()) & (prediction_rows['s2_para_id'].isnull())]\n",
        "    elif pd.isnull(s1_para_id):\n",
        "      prediction_rows = prediction_rows[(prediction_rows['s1_para_id'].isnull()) & (prediction_rows['s2_para_id'] == s2_para_id)]\n",
        "    elif pd.isnull(s2_para_id):\n",
        "      prediction_rows = prediction_rows[(prediction_rows['s1_para_id'] == s1_para_id) & (prediction_rows['s2_para_id'].isnull())]\n",
        "    else:\n",
        "      prediction_rows = prediction_rows[(prediction_rows['s1_para_id'] == s1_para_id) & (prediction_rows['s2_para_id'] == s2_para_id)]\n",
        "    df = df.append(prediction_rows)\n",
        "  return df"
      ],
      "metadata": {
        "id": "onLR-DMsgZkF"
      },
      "execution_count": null,
      "outputs": []
    },
    {
      "cell_type": "code",
      "source": [
        "def is_significant_adam(df):\n",
        "  grouped_df = df.groupby([\"dataset\", \"corpus_sent_id\"])\n",
        "  number_of_model_preds_different_from_ph = 0\n",
        "  number_of_nh_preds_different_from_ph = 0\n",
        "  total_model = 0\n",
        "  total_nh = 0\n",
        "  p_value = 0\n",
        "\n",
        "  for name, group in grouped_df:\n",
        "    ph_pred_df = group[group['s1_para_id'].isnull() & group['s2_para_id'].isnull()][\"prediction\"]\n",
        "    if len(ph_pred_df) > 0:\n",
        "      ph_pred = group[group['s1_para_id'].isnull() & group['s2_para_id'].isnull()][\"prediction\"].to_list()[0]\n",
        "      paraphrased_model_preds = group[~(group['s1_para_id'].isnull() & group['s2_para_id'].isnull())][\"prediction\"].to_list()\n",
        "      paraphrased_nh_preds = group[~(group['s1_para_id'].isnull() & group['s2_para_id'].isnull())][\"nh_prediction\"].to_list()\n",
        "\n",
        "      # total += len(paraphrased_model_preds)\n",
        "      total_nh += len(paraphrased_nh_preds)\n",
        "      for paraphrased_pred in paraphrased_nh_preds:\n",
        "        if paraphrased_pred != ph_pred:\n",
        "          number_of_nh_preds_different_from_ph += 1\n",
        "\n",
        "      total_model += len(paraphrased_model_preds)\n",
        "      for paraphrased_pred in paraphrased_model_preds:\n",
        "        if paraphrased_pred != ph_pred:\n",
        "          number_of_model_preds_different_from_ph += 1\n",
        "  # print(total)\n",
        "  # return number_of_preds_different_from_ph, number_of_preds_different_from_ph/total * 100\n",
        "  if total_model > 0:\n",
        "    percent_model_preds_change = number_of_model_preds_different_from_ph/total_model * 100\n",
        "  if total_nh > 0:\n",
        "    percent_nh_preds_change = number_of_nh_preds_different_from_ph/total_nh * 100\n",
        "  # print(percent_nh_preds_change, percent_model_preds_change)\n",
        "  return percent_nh_preds_change > percent_model_preds_change\n",
        "  # return percent_nh_preds_change, percent_model_preds_change"
      ],
      "metadata": {
        "id": "a_fFXhhzgiuA"
      },
      "execution_count": null,
      "outputs": []
    },
    {
      "cell_type": "code",
      "source": [
        "def is_significant_yash1(df):\n",
        "  grouped_df = df.groupby([\"dataset\", \"corpus_sent_id\"])\n",
        "  number_of_model_preds_different_from_ph = 0\n",
        "  number_of_nh_preds_different_from_ph = 0\n",
        "  total_model = 0\n",
        "  total_nh = 0\n",
        "  p_value = 0\n",
        "\n",
        "  for name, group in grouped_df:\n",
        "    ph_pred_df = group[group['s1_para_id'].isnull() & group['s2_para_id'].isnull()][\"prediction\"]\n",
        "    if len(ph_pred_df) > 0:\n",
        "      ph_pred = group[group['s1_para_id'].isnull() & group['s2_para_id'].isnull()][\"prediction\"].to_list()[0]\n",
        "      paraphrased_model_preds = group[~(group['s1_para_id'].isnull() & group['s2_para_id'].isnull())][\"prediction\"].to_list()\n",
        "      paraphrased_nh_preds = group[~(group['s1_para_id'].isnull() & group['s2_para_id'].isnull())][\"nh_prediction\"].to_list()\n",
        "\n",
        "      # total += len(paraphrased_model_preds)\n",
        "      total_nh += len(paraphrased_nh_preds)\n",
        "      for paraphrased_pred in paraphrased_nh_preds:\n",
        "        if paraphrased_pred != ph_pred:\n",
        "          number_of_nh_preds_different_from_ph += 1\n",
        "\n",
        "      total_model += len(paraphrased_model_preds)\n",
        "      for paraphrased_pred in paraphrased_model_preds:\n",
        "        if paraphrased_pred != ph_pred:\n",
        "          number_of_model_preds_different_from_ph += 1\n",
        "  # print(total)\n",
        "  # return number_of_preds_different_from_ph, number_of_preds_different_from_ph/total * 100\n",
        "  if total_model > 0:\n",
        "    percent_model_preds_change = number_of_model_preds_different_from_ph/total_model * 100\n",
        "  if total_nh > 0:\n",
        "    percent_nh_preds_change = number_of_nh_preds_different_from_ph/total_nh * 100\n",
        "  # print(percent_nh_preds_change, percent_model_preds_change)\n",
        "  # return percent_nh_preds_change > percent_model_preds_change\n",
        "  return percent_nh_preds_change, percent_model_preds_change"
      ],
      "metadata": {
        "id": "zTurkh3zN6pv"
      },
      "execution_count": null,
      "outputs": []
    },
    {
      "cell_type": "code",
      "source": [
        "# Yash 2\n",
        "\n",
        "def yash_2(df, model_name):\n",
        "  p_value = 0\n",
        "  sample_frac = 0.50\n",
        "  num_samples = 1000\n",
        "  dist_nh_preds = []\n",
        "  dist_model_preds = []\n",
        "  seed_val = 0\n",
        "  np.random.seed(seed_val)\n",
        "  # seed_val += 1\n",
        "  nh_options = [0, 1]\n",
        "  nh_preds = []\n",
        "\n",
        "  for i in range(0, len(df)):\n",
        "    nh_preds.append(np.random.choice(nh_options, 1)[0])\n",
        "  df['nh_prediction'] = nh_preds\n",
        "\n",
        "  for i in tqdm(range(num_samples)):\n",
        "    # np.random.seed(seed_val)\n",
        "    # seed_val += 1\n",
        "    # nh_options = [0, 1]\n",
        "    # nh_preds = []\n",
        "\n",
        "    # for i in range(0, len(df)):\n",
        "    #   nh_preds.append(np.random.choice(nh_options, 1)[0])\n",
        "    # df['nh_prediction'] = nh_preds\n",
        "    sampled_df = df.sample(frac=sample_frac)\n",
        "    # if is_significant_adam(sampled_df):\n",
        "    #   p_value += 1\n",
        "    nh_preds_change, model_preds_change = is_significant_yash1(sampled_df)\n",
        "    dist_nh_preds.append(nh_preds_change)\n",
        "    dist_model_preds.append(model_preds_change)\n",
        "\n",
        "  print(\"yash2\", model_name, stats.ttest_ind(dist_nh_preds, dist_model_preds, equal_var=True))"
      ],
      "metadata": {
        "id": "57nmMG0OklXl"
      },
      "execution_count": null,
      "outputs": []
    },
    {
      "cell_type": "code",
      "source": [
        "# Yash 3\n",
        "\n",
        "def yash_3(df, model_name):\n",
        "  p_value = 0\n",
        "  sample_frac = 0.50\n",
        "  num_samples = 1000\n",
        "  dist_nh_preds = []\n",
        "  dist_model_preds = []\n",
        "  seed_val = 0\n",
        "\n",
        "  for i in tqdm(range(num_samples)):\n",
        "    np.random.seed(seed_val)\n",
        "    seed_val += 1\n",
        "    nh_options = [0, 1]\n",
        "    nh_preds = []\n",
        "\n",
        "    for i in range(0, len(df)):\n",
        "      nh_preds.append(np.random.choice(nh_options, 1)[0])\n",
        "    df['nh_prediction'] = nh_preds\n",
        "    sampled_df = df.sample(frac=sample_frac)\n",
        "    # if is_significant_adam(sampled_df):\n",
        "    #   p_value += 1\n",
        "    nh_preds_change, model_preds_change = is_significant_yash1(sampled_df)\n",
        "    dist_nh_preds.append(nh_preds_change)\n",
        "    dist_model_preds.append(model_preds_change)\n",
        "\n",
        "  print(\"yash3\", model_name, stats.ttest_ind(dist_nh_preds, dist_model_preds, equal_var=True))"
      ],
      "metadata": {
        "id": "tktR53nLVaQQ"
      },
      "execution_count": null,
      "outputs": []
    },
    {
      "cell_type": "code",
      "source": [
        "model_name_path_dict = {\n",
        "    \"cbow\": \"/content/model_predictions/MNLI_train_RTE_paraphrased_dev/cbow/cbow_3_class_rte_test_p_predictions.csv\",\n",
        "    \"bilstm\": \"/content/model_predictions/MNLI_train_RTE_paraphrased_dev/bilstm/bilstm_3_class_rte_test_p_predictions.csv\",\n",
        "    \"roberta_mlp\": \"/content/model_predictions/MNLI_train_RTE_paraphrased_dev/roberta/roberta-large/roberta_large_3_class_rte_test_p_predictions.csv\",\n",
        "    \"bert_mlp\": \"/content/model_predictions/MNLI_train_RTE_paraphrased_dev/bert/bert-large-uncased/bert_large_3_class_rte_test_p_predictions.csv\",\n",
        "    \"gpt-3\": \"/content/rte_test_paraphrased_preds.csv\",\n",
        "    \"roberta-mnli\": \"/content/roberta_mnli_3_class_rte_test_p_predictions.csv\"\n",
        "}"
      ],
      "metadata": {
        "id": "kc7mYSQ02zJf"
      },
      "execution_count": null,
      "outputs": []
    },
    {
      "cell_type": "code",
      "source": [
        "for key, value in model_name_path_dict.items():\n",
        "  predictions = pd.read_csv(value)\n",
        "  df = merge_data(test_data, predictions)\n",
        "  yash_2(df, key)\n",
        "  yash_3(df, key)"
      ],
      "metadata": {
        "colab": {
          "base_uri": "https://localhost:8080/",
          "height": 559
        },
        "id": "HsZ7Tnpw3sF-",
        "outputId": "d0735ab4-5f70-44e9-e241-bc92623b0dcd"
      },
      "execution_count": null,
      "outputs": [
        {
          "output_type": "stream",
          "name": "stderr",
          "text": [
            "100%|██████████| 1000/1000 [23:51<00:00,  1.43s/it]\n"
          ]
        },
        {
          "output_type": "stream",
          "name": "stdout",
          "text": [
            "yash2 cbow Ttest_indResult(statistic=335.4300355450884, pvalue=0.0)\n"
          ]
        },
        {
          "output_type": "stream",
          "name": "stderr",
          "text": [
            "100%|██████████| 1000/1000 [25:22<00:00,  1.52s/it]\n"
          ]
        },
        {
          "output_type": "stream",
          "name": "stdout",
          "text": [
            "yash3 cbow Ttest_indResult(statistic=309.14293915031783, pvalue=0.0)\n"
          ]
        },
        {
          "output_type": "stream",
          "name": "stderr",
          "text": [
            "100%|██████████| 1000/1000 [23:38<00:00,  1.42s/it]\n"
          ]
        },
        {
          "output_type": "stream",
          "name": "stdout",
          "text": [
            "yash2 bilstm Ttest_indResult(statistic=303.56577027477425, pvalue=0.0)\n"
          ]
        },
        {
          "output_type": "stream",
          "name": "stderr",
          "text": [
            "100%|██████████| 1000/1000 [25:04<00:00,  1.50s/it]\n"
          ]
        },
        {
          "output_type": "stream",
          "name": "stdout",
          "text": [
            "yash3 bilstm Ttest_indResult(statistic=293.8636684879669, pvalue=0.0)\n"
          ]
        },
        {
          "output_type": "stream",
          "name": "stderr",
          "text": [
            "100%|██████████| 1000/1000 [23:54<00:00,  1.43s/it]\n"
          ]
        },
        {
          "output_type": "stream",
          "name": "stdout",
          "text": [
            "yash2 roberta_mlp Ttest_indResult(statistic=442.6747136339459, pvalue=0.0)\n"
          ]
        },
        {
          "output_type": "stream",
          "name": "stderr",
          "text": [
            " 76%|███████▌  | 755/1000 [18:31<06:00,  1.47s/it]\n"
          ]
        },
        {
          "output_type": "error",
          "ename": "KeyboardInterrupt",
          "evalue": "ignored",
          "traceback": [
            "\u001b[0;31m---------------------------------------------------------------------------\u001b[0m",
            "\u001b[0;31mKeyboardInterrupt\u001b[0m                         Traceback (most recent call last)",
            "\u001b[0;32m<ipython-input-31-4c2718ae010a>\u001b[0m in \u001b[0;36m<module>\u001b[0;34m\u001b[0m\n\u001b[1;32m      3\u001b[0m   \u001b[0mdf\u001b[0m \u001b[0;34m=\u001b[0m \u001b[0mmerge_data\u001b[0m\u001b[0;34m(\u001b[0m\u001b[0mtest_data\u001b[0m\u001b[0;34m,\u001b[0m \u001b[0mpredictions\u001b[0m\u001b[0;34m)\u001b[0m\u001b[0;34m\u001b[0m\u001b[0;34m\u001b[0m\u001b[0m\n\u001b[1;32m      4\u001b[0m   \u001b[0myash_2\u001b[0m\u001b[0;34m(\u001b[0m\u001b[0mdf\u001b[0m\u001b[0;34m,\u001b[0m \u001b[0mkey\u001b[0m\u001b[0;34m)\u001b[0m\u001b[0;34m\u001b[0m\u001b[0;34m\u001b[0m\u001b[0m\n\u001b[0;32m----> 5\u001b[0;31m   \u001b[0myash_3\u001b[0m\u001b[0;34m(\u001b[0m\u001b[0mdf\u001b[0m\u001b[0;34m,\u001b[0m \u001b[0mkey\u001b[0m\u001b[0;34m)\u001b[0m\u001b[0;34m\u001b[0m\u001b[0;34m\u001b[0m\u001b[0m\n\u001b[0m",
            "\u001b[0;32m<ipython-input-29-3cbd0c066038>\u001b[0m in \u001b[0;36myash_3\u001b[0;34m(df, model_name)\u001b[0m\n\u001b[1;32m     21\u001b[0m     \u001b[0;31m# if is_significant_adam(sampled_df):\u001b[0m\u001b[0;34m\u001b[0m\u001b[0;34m\u001b[0m\u001b[0;34m\u001b[0m\u001b[0m\n\u001b[1;32m     22\u001b[0m     \u001b[0;31m#   p_value += 1\u001b[0m\u001b[0;34m\u001b[0m\u001b[0;34m\u001b[0m\u001b[0;34m\u001b[0m\u001b[0m\n\u001b[0;32m---> 23\u001b[0;31m     \u001b[0mnh_preds_change\u001b[0m\u001b[0;34m,\u001b[0m \u001b[0mmodel_preds_change\u001b[0m \u001b[0;34m=\u001b[0m \u001b[0mis_significant_yash1\u001b[0m\u001b[0;34m(\u001b[0m\u001b[0msampled_df\u001b[0m\u001b[0;34m)\u001b[0m\u001b[0;34m\u001b[0m\u001b[0;34m\u001b[0m\u001b[0m\n\u001b[0m\u001b[1;32m     24\u001b[0m     \u001b[0mdist_nh_preds\u001b[0m\u001b[0;34m.\u001b[0m\u001b[0mappend\u001b[0m\u001b[0;34m(\u001b[0m\u001b[0mnh_preds_change\u001b[0m\u001b[0;34m)\u001b[0m\u001b[0;34m\u001b[0m\u001b[0;34m\u001b[0m\u001b[0m\n\u001b[1;32m     25\u001b[0m     \u001b[0mdist_model_preds\u001b[0m\u001b[0;34m.\u001b[0m\u001b[0mappend\u001b[0m\u001b[0;34m(\u001b[0m\u001b[0mmodel_preds_change\u001b[0m\u001b[0;34m)\u001b[0m\u001b[0;34m\u001b[0m\u001b[0;34m\u001b[0m\u001b[0m\n",
            "\u001b[0;32m<ipython-input-21-8a7b8a5401e9>\u001b[0m in \u001b[0;36mis_significant_yash1\u001b[0;34m(df)\u001b[0m\n\u001b[1;32m     11\u001b[0m     \u001b[0;32mif\u001b[0m \u001b[0mlen\u001b[0m\u001b[0;34m(\u001b[0m\u001b[0mph_pred_df\u001b[0m\u001b[0;34m)\u001b[0m \u001b[0;34m>\u001b[0m \u001b[0;36m0\u001b[0m\u001b[0;34m:\u001b[0m\u001b[0;34m\u001b[0m\u001b[0;34m\u001b[0m\u001b[0m\n\u001b[1;32m     12\u001b[0m       \u001b[0mph_pred\u001b[0m \u001b[0;34m=\u001b[0m \u001b[0mgroup\u001b[0m\u001b[0;34m[\u001b[0m\u001b[0mgroup\u001b[0m\u001b[0;34m[\u001b[0m\u001b[0;34m's1_para_id'\u001b[0m\u001b[0;34m]\u001b[0m\u001b[0;34m.\u001b[0m\u001b[0misnull\u001b[0m\u001b[0;34m(\u001b[0m\u001b[0;34m)\u001b[0m \u001b[0;34m&\u001b[0m \u001b[0mgroup\u001b[0m\u001b[0;34m[\u001b[0m\u001b[0;34m's2_para_id'\u001b[0m\u001b[0;34m]\u001b[0m\u001b[0;34m.\u001b[0m\u001b[0misnull\u001b[0m\u001b[0;34m(\u001b[0m\u001b[0;34m)\u001b[0m\u001b[0;34m]\u001b[0m\u001b[0;34m[\u001b[0m\u001b[0;34m\"prediction\"\u001b[0m\u001b[0;34m]\u001b[0m\u001b[0;34m.\u001b[0m\u001b[0mto_list\u001b[0m\u001b[0;34m(\u001b[0m\u001b[0;34m)\u001b[0m\u001b[0;34m[\u001b[0m\u001b[0;36m0\u001b[0m\u001b[0;34m]\u001b[0m\u001b[0;34m\u001b[0m\u001b[0;34m\u001b[0m\u001b[0m\n\u001b[0;32m---> 13\u001b[0;31m       \u001b[0mparaphrased_model_preds\u001b[0m \u001b[0;34m=\u001b[0m \u001b[0mgroup\u001b[0m\u001b[0;34m[\u001b[0m\u001b[0;34m~\u001b[0m\u001b[0;34m(\u001b[0m\u001b[0mgroup\u001b[0m\u001b[0;34m[\u001b[0m\u001b[0;34m's1_para_id'\u001b[0m\u001b[0;34m]\u001b[0m\u001b[0;34m.\u001b[0m\u001b[0misnull\u001b[0m\u001b[0;34m(\u001b[0m\u001b[0;34m)\u001b[0m \u001b[0;34m&\u001b[0m \u001b[0mgroup\u001b[0m\u001b[0;34m[\u001b[0m\u001b[0;34m's2_para_id'\u001b[0m\u001b[0;34m]\u001b[0m\u001b[0;34m.\u001b[0m\u001b[0misnull\u001b[0m\u001b[0;34m(\u001b[0m\u001b[0;34m)\u001b[0m\u001b[0;34m)\u001b[0m\u001b[0;34m]\u001b[0m\u001b[0;34m[\u001b[0m\u001b[0;34m\"prediction\"\u001b[0m\u001b[0;34m]\u001b[0m\u001b[0;34m.\u001b[0m\u001b[0mto_list\u001b[0m\u001b[0;34m(\u001b[0m\u001b[0;34m)\u001b[0m\u001b[0;34m\u001b[0m\u001b[0;34m\u001b[0m\u001b[0m\n\u001b[0m\u001b[1;32m     14\u001b[0m       \u001b[0mparaphrased_nh_preds\u001b[0m \u001b[0;34m=\u001b[0m \u001b[0mgroup\u001b[0m\u001b[0;34m[\u001b[0m\u001b[0;34m~\u001b[0m\u001b[0;34m(\u001b[0m\u001b[0mgroup\u001b[0m\u001b[0;34m[\u001b[0m\u001b[0;34m's1_para_id'\u001b[0m\u001b[0;34m]\u001b[0m\u001b[0;34m.\u001b[0m\u001b[0misnull\u001b[0m\u001b[0;34m(\u001b[0m\u001b[0;34m)\u001b[0m \u001b[0;34m&\u001b[0m \u001b[0mgroup\u001b[0m\u001b[0;34m[\u001b[0m\u001b[0;34m's2_para_id'\u001b[0m\u001b[0;34m]\u001b[0m\u001b[0;34m.\u001b[0m\u001b[0misnull\u001b[0m\u001b[0;34m(\u001b[0m\u001b[0;34m)\u001b[0m\u001b[0;34m)\u001b[0m\u001b[0;34m]\u001b[0m\u001b[0;34m[\u001b[0m\u001b[0;34m\"nh_prediction\"\u001b[0m\u001b[0;34m]\u001b[0m\u001b[0;34m.\u001b[0m\u001b[0mto_list\u001b[0m\u001b[0;34m(\u001b[0m\u001b[0;34m)\u001b[0m\u001b[0;34m\u001b[0m\u001b[0;34m\u001b[0m\u001b[0m\n\u001b[1;32m     15\u001b[0m \u001b[0;34m\u001b[0m\u001b[0m\n",
            "\u001b[0;32m/usr/local/lib/python3.8/dist-packages/pandas/core/ops/common.py\u001b[0m in \u001b[0;36mnew_method\u001b[0;34m(self, other)\u001b[0m\n\u001b[1;32m     67\u001b[0m         \u001b[0mother\u001b[0m \u001b[0;34m=\u001b[0m \u001b[0mitem_from_zerodim\u001b[0m\u001b[0;34m(\u001b[0m\u001b[0mother\u001b[0m\u001b[0;34m)\u001b[0m\u001b[0;34m\u001b[0m\u001b[0;34m\u001b[0m\u001b[0m\n\u001b[1;32m     68\u001b[0m \u001b[0;34m\u001b[0m\u001b[0m\n\u001b[0;32m---> 69\u001b[0;31m         \u001b[0;32mreturn\u001b[0m \u001b[0mmethod\u001b[0m\u001b[0;34m(\u001b[0m\u001b[0mself\u001b[0m\u001b[0;34m,\u001b[0m \u001b[0mother\u001b[0m\u001b[0;34m)\u001b[0m\u001b[0;34m\u001b[0m\u001b[0;34m\u001b[0m\u001b[0m\n\u001b[0m\u001b[1;32m     70\u001b[0m \u001b[0;34m\u001b[0m\u001b[0m\n\u001b[1;32m     71\u001b[0m     \u001b[0;32mreturn\u001b[0m \u001b[0mnew_method\u001b[0m\u001b[0;34m\u001b[0m\u001b[0;34m\u001b[0m\u001b[0m\n",
            "\u001b[0;32m/usr/local/lib/python3.8/dist-packages/pandas/core/arraylike.py\u001b[0m in \u001b[0;36m__and__\u001b[0;34m(self, other)\u001b[0m\n\u001b[1;32m     60\u001b[0m     \u001b[0;34m@\u001b[0m\u001b[0munpack_zerodim_and_defer\u001b[0m\u001b[0;34m(\u001b[0m\u001b[0;34m\"__and__\"\u001b[0m\u001b[0;34m)\u001b[0m\u001b[0;34m\u001b[0m\u001b[0;34m\u001b[0m\u001b[0m\n\u001b[1;32m     61\u001b[0m     \u001b[0;32mdef\u001b[0m \u001b[0m__and__\u001b[0m\u001b[0;34m(\u001b[0m\u001b[0mself\u001b[0m\u001b[0;34m,\u001b[0m \u001b[0mother\u001b[0m\u001b[0;34m)\u001b[0m\u001b[0;34m:\u001b[0m\u001b[0;34m\u001b[0m\u001b[0;34m\u001b[0m\u001b[0m\n\u001b[0;32m---> 62\u001b[0;31m         \u001b[0;32mreturn\u001b[0m \u001b[0mself\u001b[0m\u001b[0;34m.\u001b[0m\u001b[0m_logical_method\u001b[0m\u001b[0;34m(\u001b[0m\u001b[0mother\u001b[0m\u001b[0;34m,\u001b[0m \u001b[0moperator\u001b[0m\u001b[0;34m.\u001b[0m\u001b[0mand_\u001b[0m\u001b[0;34m)\u001b[0m\u001b[0;34m\u001b[0m\u001b[0;34m\u001b[0m\u001b[0m\n\u001b[0m\u001b[1;32m     63\u001b[0m \u001b[0;34m\u001b[0m\u001b[0m\n\u001b[1;32m     64\u001b[0m     \u001b[0;34m@\u001b[0m\u001b[0munpack_zerodim_and_defer\u001b[0m\u001b[0;34m(\u001b[0m\u001b[0;34m\"__rand__\"\u001b[0m\u001b[0;34m)\u001b[0m\u001b[0;34m\u001b[0m\u001b[0;34m\u001b[0m\u001b[0m\n",
            "\u001b[0;32m/usr/local/lib/python3.8/dist-packages/pandas/core/series.py\u001b[0m in \u001b[0;36m_logical_method\u001b[0;34m(self, other, op)\u001b[0m\n\u001b[1;32m   5512\u001b[0m \u001b[0;34m\u001b[0m\u001b[0m\n\u001b[1;32m   5513\u001b[0m         \u001b[0mres_values\u001b[0m \u001b[0;34m=\u001b[0m \u001b[0mops\u001b[0m\u001b[0;34m.\u001b[0m\u001b[0mlogical_op\u001b[0m\u001b[0;34m(\u001b[0m\u001b[0mlvalues\u001b[0m\u001b[0;34m,\u001b[0m \u001b[0mrvalues\u001b[0m\u001b[0;34m,\u001b[0m \u001b[0mop\u001b[0m\u001b[0;34m)\u001b[0m\u001b[0;34m\u001b[0m\u001b[0;34m\u001b[0m\u001b[0m\n\u001b[0;32m-> 5514\u001b[0;31m         \u001b[0;32mreturn\u001b[0m \u001b[0mself\u001b[0m\u001b[0;34m.\u001b[0m\u001b[0m_construct_result\u001b[0m\u001b[0;34m(\u001b[0m\u001b[0mres_values\u001b[0m\u001b[0;34m,\u001b[0m \u001b[0mname\u001b[0m\u001b[0;34m=\u001b[0m\u001b[0mres_name\u001b[0m\u001b[0;34m)\u001b[0m\u001b[0;34m\u001b[0m\u001b[0;34m\u001b[0m\u001b[0m\n\u001b[0m\u001b[1;32m   5515\u001b[0m \u001b[0;34m\u001b[0m\u001b[0m\n\u001b[1;32m   5516\u001b[0m     \u001b[0;32mdef\u001b[0m \u001b[0m_arith_method\u001b[0m\u001b[0;34m(\u001b[0m\u001b[0mself\u001b[0m\u001b[0;34m,\u001b[0m \u001b[0mother\u001b[0m\u001b[0;34m,\u001b[0m \u001b[0mop\u001b[0m\u001b[0;34m)\u001b[0m\u001b[0;34m:\u001b[0m\u001b[0;34m\u001b[0m\u001b[0;34m\u001b[0m\u001b[0m\n",
            "\u001b[0;32m/usr/local/lib/python3.8/dist-packages/pandas/core/series.py\u001b[0m in \u001b[0;36m_construct_result\u001b[0;34m(self, result, name)\u001b[0m\n\u001b[1;32m   2943\u001b[0m         \u001b[0;31m# We do not pass dtype to ensure that the Series constructor\u001b[0m\u001b[0;34m\u001b[0m\u001b[0;34m\u001b[0m\u001b[0;34m\u001b[0m\u001b[0m\n\u001b[1;32m   2944\u001b[0m         \u001b[0;31m#  does inference in the case where `result` has object-dtype.\u001b[0m\u001b[0;34m\u001b[0m\u001b[0;34m\u001b[0m\u001b[0;34m\u001b[0m\u001b[0m\n\u001b[0;32m-> 2945\u001b[0;31m         \u001b[0mout\u001b[0m \u001b[0;34m=\u001b[0m \u001b[0mself\u001b[0m\u001b[0;34m.\u001b[0m\u001b[0m_constructor\u001b[0m\u001b[0;34m(\u001b[0m\u001b[0mresult\u001b[0m\u001b[0;34m,\u001b[0m \u001b[0mindex\u001b[0m\u001b[0;34m=\u001b[0m\u001b[0mself\u001b[0m\u001b[0;34m.\u001b[0m\u001b[0mindex\u001b[0m\u001b[0;34m)\u001b[0m\u001b[0;34m\u001b[0m\u001b[0;34m\u001b[0m\u001b[0m\n\u001b[0m\u001b[1;32m   2946\u001b[0m         \u001b[0mout\u001b[0m \u001b[0;34m=\u001b[0m \u001b[0mout\u001b[0m\u001b[0;34m.\u001b[0m\u001b[0m__finalize__\u001b[0m\u001b[0;34m(\u001b[0m\u001b[0mself\u001b[0m\u001b[0;34m)\u001b[0m\u001b[0;34m\u001b[0m\u001b[0;34m\u001b[0m\u001b[0m\n\u001b[1;32m   2947\u001b[0m \u001b[0;34m\u001b[0m\u001b[0m\n",
            "\u001b[0;32m/usr/local/lib/python3.8/dist-packages/pandas/core/series.py\u001b[0m in \u001b[0;36m__init__\u001b[0;34m(self, data, index, dtype, name, copy, fastpath)\u001b[0m\n\u001b[1;32m    439\u001b[0m                 \u001b[0mdata\u001b[0m \u001b[0;34m=\u001b[0m \u001b[0msanitize_array\u001b[0m\u001b[0;34m(\u001b[0m\u001b[0mdata\u001b[0m\u001b[0;34m,\u001b[0m \u001b[0mindex\u001b[0m\u001b[0;34m,\u001b[0m \u001b[0mdtype\u001b[0m\u001b[0;34m,\u001b[0m \u001b[0mcopy\u001b[0m\u001b[0;34m)\u001b[0m\u001b[0;34m\u001b[0m\u001b[0;34m\u001b[0m\u001b[0m\n\u001b[1;32m    440\u001b[0m \u001b[0;34m\u001b[0m\u001b[0m\n\u001b[0;32m--> 441\u001b[0;31m                 \u001b[0mmanager\u001b[0m \u001b[0;34m=\u001b[0m \u001b[0mget_option\u001b[0m\u001b[0;34m(\u001b[0m\u001b[0;34m\"mode.data_manager\"\u001b[0m\u001b[0;34m)\u001b[0m\u001b[0;34m\u001b[0m\u001b[0;34m\u001b[0m\u001b[0m\n\u001b[0m\u001b[1;32m    442\u001b[0m                 \u001b[0;32mif\u001b[0m \u001b[0mmanager\u001b[0m \u001b[0;34m==\u001b[0m \u001b[0;34m\"block\"\u001b[0m\u001b[0;34m:\u001b[0m\u001b[0;34m\u001b[0m\u001b[0;34m\u001b[0m\u001b[0m\n\u001b[1;32m    443\u001b[0m                     \u001b[0mdata\u001b[0m \u001b[0;34m=\u001b[0m \u001b[0mSingleBlockManager\u001b[0m\u001b[0;34m.\u001b[0m\u001b[0mfrom_array\u001b[0m\u001b[0;34m(\u001b[0m\u001b[0mdata\u001b[0m\u001b[0;34m,\u001b[0m \u001b[0mindex\u001b[0m\u001b[0;34m)\u001b[0m\u001b[0;34m\u001b[0m\u001b[0;34m\u001b[0m\u001b[0m\n",
            "\u001b[0;32m/usr/local/lib/python3.8/dist-packages/pandas/_config/config.py\u001b[0m in \u001b[0;36m__call__\u001b[0;34m(self, *args, **kwds)\u001b[0m\n\u001b[1;32m    240\u001b[0m         \u001b[0mself\u001b[0m\u001b[0;34m.\u001b[0m\u001b[0m__func__\u001b[0m \u001b[0;34m=\u001b[0m \u001b[0mfunc\u001b[0m\u001b[0;34m\u001b[0m\u001b[0;34m\u001b[0m\u001b[0m\n\u001b[1;32m    241\u001b[0m \u001b[0;34m\u001b[0m\u001b[0m\n\u001b[0;32m--> 242\u001b[0;31m     \u001b[0;32mdef\u001b[0m \u001b[0m__call__\u001b[0m\u001b[0;34m(\u001b[0m\u001b[0mself\u001b[0m\u001b[0;34m,\u001b[0m \u001b[0;34m*\u001b[0m\u001b[0margs\u001b[0m\u001b[0;34m,\u001b[0m \u001b[0;34m**\u001b[0m\u001b[0mkwds\u001b[0m\u001b[0;34m)\u001b[0m\u001b[0;34m:\u001b[0m\u001b[0;34m\u001b[0m\u001b[0;34m\u001b[0m\u001b[0m\n\u001b[0m\u001b[1;32m    243\u001b[0m         \u001b[0;32mreturn\u001b[0m \u001b[0mself\u001b[0m\u001b[0;34m.\u001b[0m\u001b[0m__func__\u001b[0m\u001b[0;34m(\u001b[0m\u001b[0;34m*\u001b[0m\u001b[0margs\u001b[0m\u001b[0;34m,\u001b[0m \u001b[0;34m**\u001b[0m\u001b[0mkwds\u001b[0m\u001b[0;34m)\u001b[0m\u001b[0;34m\u001b[0m\u001b[0;34m\u001b[0m\u001b[0m\n\u001b[1;32m    244\u001b[0m \u001b[0;34m\u001b[0m\u001b[0m\n",
            "\u001b[0;31mKeyboardInterrupt\u001b[0m: "
          ]
        }
      ]
    },
    {
      "cell_type": "code",
      "source": [],
      "metadata": {
        "id": "Ft-HSK7W4zVm"
      },
      "execution_count": null,
      "outputs": []
    }
  ]
}